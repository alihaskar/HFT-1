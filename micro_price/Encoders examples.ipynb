{
 "cells": [
  {
   "cell_type": "markdown",
   "id": "1bbd9552",
   "metadata": {},
   "source": [
    "# Mid Price Encoder\n",
    "\n",
    "В мид прайс энкодере мы вначале преобразуем приращения мид прайса в целые числа:\n",
    "$$\n",
    "\\Delta M = \\text{round}\\left(\\dfrac{\\Delta M}{h}\\right)\n",
    "$$\n",
    "где $h$ -- шаг дискритезации. Если агрегации по уровням нет, то разумно положить $h = 0.5 \\text{tick_size}$. Если есть агрегация, то шаг изменения $\\Delta M$ становится меньше. Для биткоина я положил $h = 0.01$, возможно для эфира нужно взять меньше.\n",
    "\n",
    "В силу симметрии, достаточно уметь кодировать положительные значения $\\Delta M$. Пусть $f(\\Delta M)$ -- функция, которая кодирует изменения мид. прайса, определённая для $\\Delta M > 0$. Доопределим её следующим образом:\n",
    "$$\n",
    "f(\\Delta M) = \\begin{cases}\n",
    "    0, &\\Delta M = 0 \\\\\n",
    "    -f(-\\Delta M), &\\Delta M < 0\n",
    "\\end{cases}\n",
    "$$\n",
    "\n",
    "Введём сетку $0 = x_0 < x_1 < \\ldots < x_N = \\infty$. Положим:\n",
    "$$\n",
    "f(x) = \\text{median} \\left(  \\Delta M_i :  x_k \\leq \\Delta M_i < x_{k+1} \\right), \\text{if } x_k \\leq x < x_{k+1}\n",
    "$$\n",
    "\n",
    "Т.е. для каждой точки $x$ мы находим отрезок $[x_k, x_{k+1})$ к которому она пренадлежит и кодируем $x$ медианным значением из точек выборки, лежащих в этом отрезке.\n",
    "\n",
    "Границы $x_k$ будем подбирать таким образом, чтобы всего было заданное число отрезков $n_{bin}$ и в каждом было примерно одинаково элементов выборки. \n",
    "\n",
    "В конце(при предикте) нужно будет домножить результат на $h$, чтобы результат был того же масштаба, что и входные данные."
   ]
  },
  {
   "cell_type": "markdown",
   "id": "6ed6b626",
   "metadata": {},
   "source": [
    "# Spread encoder\n",
    "\n",
    "Здесь я действовал примерно также, как и для $\\Delta M$. Вначале мы переходим к целым значениям по формуле:\n",
    "$$\n",
    "S = \\text{round} \\left( \\dfrac{S}{\\text{ticksize}}\\right)\n",
    "$$\n",
    "\n",
    "В `UniformSpreadEncoder` есть два параметра $\\text{nbins}_1, \\text{nbins}_2$. Первые $\\text{nbins}_1$ значений мы кодируем ими же, оставшиеся значения разбиваем на $\\text{nbins}_2$ бинов по схеме выше.\n",
    "\n",
    "В `SpreadEncoder` бины выглядят примерно следующим образом:\n",
    "\n",
    " 1 -> 2 -> 3 -> 4 -> 5 -> 7 -> 9 -> 11 -> 13 -> 18 -> 23 -> 28 -> 33 -> ...\n",
    " \n",
    "т.е. вначале бины идут с шагом 1, потом с шагом 3, потом с шагом 5 и так до тех пор, пока мы не покроем все значения спреда до 0.99 квантили."
   ]
  },
  {
   "cell_type": "markdown",
   "id": "de862db2",
   "metadata": {},
   "source": [
    "# Imbalance encoder\n",
    "\n",
    "Здесь всё просто. $I \\in [0, 1]$, поэтому функцию, кодирующую imbalance можно задать как:\n",
    "$$\n",
    "f(I) = \\text{round}( I \\cdot n_{imb} ) \\in \\{0, 1, \\ldots, n_{imb} \\}\n",
    "$$где $n_{imb}$ -- желаемое число дискретизации. Я брал 10, 20."
   ]
  },
  {
   "cell_type": "code",
   "execution_count": 213,
   "id": "b8361dc1",
   "metadata": {},
   "outputs": [],
   "source": [
    "from sys import path\n",
    "\n",
    "path.append('/home/alex/anaconda3/lib/python3.9/site-packages')\n",
    "path.append('../simulator/')"
   ]
  },
  {
   "cell_type": "code",
   "execution_count": 214,
   "id": "e5064834",
   "metadata": {},
   "outputs": [],
   "source": [
    "from load_data import load_before_time\n",
    "\n",
    "from spread_encoder import SpreadEncoder\n",
    "from mid_price_encoder import MidPriceEncoder, DummyMidPriceEncoder\n",
    "from encoder import Encoder\n",
    "from micro_price import SimpleMicroPrice, DummyMicroPrice"
   ]
  },
  {
   "cell_type": "code",
   "execution_count": 215,
   "id": "6014686c",
   "metadata": {},
   "outputs": [],
   "source": [
    "import pandas as pd\n",
    "import numpy as np\n",
    "from matplotlib import pyplot as plt\n",
    "from collections import Counter\n",
    "\n",
    "import plotly.express as px"
   ]
  },
  {
   "cell_type": "code",
   "execution_count": 216,
   "id": "b5dcb8bb",
   "metadata": {},
   "outputs": [
    {
     "name": "stdout",
     "output_type": "stream",
     "text": [
      "The autoreload extension is already loaded. To reload it, use:\n",
      "  %reload_ext autoreload\n"
     ]
    }
   ],
   "source": [
    "%load_ext autoreload\n",
    "%autoreload 2"
   ]
  },
  {
   "cell_type": "code",
   "execution_count": 217,
   "id": "dcf85537",
   "metadata": {},
   "outputs": [],
   "source": [
    "PATH_TO_FILE = '../md/btcusdt:Binance:LinearPerpetual/'\n",
    "T = pd.Timedelta(120, 'm').delta"
   ]
  },
  {
   "cell_type": "code",
   "execution_count": 67,
   "id": "dd6356ba",
   "metadata": {
    "code_folding": [
     0
    ]
   },
   "outputs": [],
   "source": [
    "def agg_data(lobs, n_layers):\n",
    "    \"\"\"\n",
    "        aggregate data from given number of layers\n",
    "    \"\"\"\n",
    "    ask_prices = [ lobs[f'ask_price_{i}'].values for i in range(10)]\n",
    "    bid_prices = [ lobs[f'bid_price_{i}'].values for i in range(10)]\n",
    "\n",
    "    ask_vols = [ lobs[f'ask_vol_{i}'].values for i in range(10)]\n",
    "    bid_vols = [ lobs[f'bid_vol_{i}'].values for i in range(10)]\n",
    "    \n",
    "    N = len(lobs)\n",
    "    \n",
    "    ask_price = np.zeros((N, ))\n",
    "    bid_price = np.zeros((N, ))\n",
    "\n",
    "    ask_vol = np.zeros((N, ))\n",
    "    bid_vol = np.zeros((N, ))\n",
    "    for i in range(n_layers):\n",
    "        ask_vol += ask_vols[i]\n",
    "        bid_vol += bid_vols[i]\n",
    "\n",
    "        ask_price += ask_vols[i] * ask_prices[i]\n",
    "        bid_price += bid_vols[i] * bid_prices[i]\n",
    "\n",
    "    ask_price /= ask_vol\n",
    "    bid_price /= bid_vol\n",
    "    \n",
    "    return ask_price, bid_price, ask_vol, bid_vol"
   ]
  },
  {
   "cell_type": "code",
   "execution_count": 68,
   "id": "c3803a1c",
   "metadata": {},
   "outputs": [],
   "source": [
    "lobs = load_before_time(PATH_TO_FILE + 'lobs.csv', T)\n",
    "\n",
    "names = lobs.columns.values\n",
    "ln = len('btcusdt:Binance:LinearPerpetual_')\n",
    "renamer = { name:name[ln:] for name in names[2:]}\n",
    "renamer[' exchange_ts'] = 'exchange_ts'\n",
    "lobs.rename(renamer, axis=1, inplace=True)\n",
    "lobs.drop(['exchange_ts'], axis=1, inplace=True)\n",
    "\n",
    "lobs.receive_ts = pd.to_datetime(lobs.receive_ts)\n",
    "lobs.set_index('receive_ts', drop=True, inplace=True)"
   ]
  },
  {
   "cell_type": "code",
   "execution_count": 7,
   "id": "2d24bfc8",
   "metadata": {},
   "outputs": [
    {
     "data": {
      "text/html": [
       "<div>\n",
       "<style scoped>\n",
       "    .dataframe tbody tr th:only-of-type {\n",
       "        vertical-align: middle;\n",
       "    }\n",
       "\n",
       "    .dataframe tbody tr th {\n",
       "        vertical-align: top;\n",
       "    }\n",
       "\n",
       "    .dataframe thead th {\n",
       "        text-align: right;\n",
       "    }\n",
       "</style>\n",
       "<table border=\"1\" class=\"dataframe\">\n",
       "  <thead>\n",
       "    <tr style=\"text-align: right;\">\n",
       "      <th></th>\n",
       "      <th>ask_price_0</th>\n",
       "      <th>ask_vol_0</th>\n",
       "      <th>bid_price_0</th>\n",
       "      <th>bid_vol_0</th>\n",
       "      <th>ask_price_1</th>\n",
       "      <th>ask_vol_1</th>\n",
       "      <th>bid_price_1</th>\n",
       "      <th>bid_vol_1</th>\n",
       "      <th>ask_price_2</th>\n",
       "      <th>ask_vol_2</th>\n",
       "      <th>...</th>\n",
       "      <th>bid_price_7</th>\n",
       "      <th>bid_vol_7</th>\n",
       "      <th>ask_price_8</th>\n",
       "      <th>ask_vol_8</th>\n",
       "      <th>bid_price_8</th>\n",
       "      <th>bid_vol_8</th>\n",
       "      <th>ask_price_9</th>\n",
       "      <th>ask_vol_9</th>\n",
       "      <th>bid_price_9</th>\n",
       "      <th>bid_vol_9</th>\n",
       "    </tr>\n",
       "    <tr>\n",
       "      <th>receive_ts</th>\n",
       "      <th></th>\n",
       "      <th></th>\n",
       "      <th></th>\n",
       "      <th></th>\n",
       "      <th></th>\n",
       "      <th></th>\n",
       "      <th></th>\n",
       "      <th></th>\n",
       "      <th></th>\n",
       "      <th></th>\n",
       "      <th></th>\n",
       "      <th></th>\n",
       "      <th></th>\n",
       "      <th></th>\n",
       "      <th></th>\n",
       "      <th></th>\n",
       "      <th></th>\n",
       "      <th></th>\n",
       "      <th></th>\n",
       "      <th></th>\n",
       "      <th></th>\n",
       "    </tr>\n",
       "  </thead>\n",
       "  <tbody>\n",
       "    <tr>\n",
       "      <th>2022-06-23 00:00:02.250125991</th>\n",
       "      <td>19977.5</td>\n",
       "      <td>0.079</td>\n",
       "      <td>19977.4</td>\n",
       "      <td>12.381</td>\n",
       "      <td>19977.8</td>\n",
       "      <td>0.003</td>\n",
       "      <td>19976.7</td>\n",
       "      <td>0.066</td>\n",
       "      <td>19977.9</td>\n",
       "      <td>0.003</td>\n",
       "      <td>...</td>\n",
       "      <td>19975.7</td>\n",
       "      <td>4.455</td>\n",
       "      <td>19980.1</td>\n",
       "      <td>0.01</td>\n",
       "      <td>19975.6</td>\n",
       "      <td>1.529</td>\n",
       "      <td>19980.2</td>\n",
       "      <td>0.01</td>\n",
       "      <td>19975.4</td>\n",
       "      <td>1.641</td>\n",
       "    </tr>\n",
       "    <tr>\n",
       "      <th>2022-06-23 00:00:02.657844605</th>\n",
       "      <td>19977.5</td>\n",
       "      <td>0.078</td>\n",
       "      <td>19977.4</td>\n",
       "      <td>12.381</td>\n",
       "      <td>19977.8</td>\n",
       "      <td>0.003</td>\n",
       "      <td>19977.3</td>\n",
       "      <td>0.126</td>\n",
       "      <td>19977.9</td>\n",
       "      <td>0.003</td>\n",
       "      <td>...</td>\n",
       "      <td>19975.9</td>\n",
       "      <td>0.246</td>\n",
       "      <td>19980.1</td>\n",
       "      <td>0.01</td>\n",
       "      <td>19975.8</td>\n",
       "      <td>0.686</td>\n",
       "      <td>19980.2</td>\n",
       "      <td>0.01</td>\n",
       "      <td>19975.7</td>\n",
       "      <td>4.455</td>\n",
       "    </tr>\n",
       "    <tr>\n",
       "      <th>2022-06-23 00:00:03.346968722</th>\n",
       "      <td>19977.5</td>\n",
       "      <td>0.079</td>\n",
       "      <td>19977.4</td>\n",
       "      <td>12.381</td>\n",
       "      <td>19977.8</td>\n",
       "      <td>0.003</td>\n",
       "      <td>19977.3</td>\n",
       "      <td>0.126</td>\n",
       "      <td>19977.9</td>\n",
       "      <td>0.003</td>\n",
       "      <td>...</td>\n",
       "      <td>19975.9</td>\n",
       "      <td>0.246</td>\n",
       "      <td>19980.1</td>\n",
       "      <td>0.01</td>\n",
       "      <td>19975.8</td>\n",
       "      <td>0.686</td>\n",
       "      <td>19980.2</td>\n",
       "      <td>0.01</td>\n",
       "      <td>19975.7</td>\n",
       "      <td>4.455</td>\n",
       "    </tr>\n",
       "    <tr>\n",
       "      <th>2022-06-23 00:00:04.080791047</th>\n",
       "      <td>19977.5</td>\n",
       "      <td>0.079</td>\n",
       "      <td>19977.4</td>\n",
       "      <td>12.381</td>\n",
       "      <td>19977.8</td>\n",
       "      <td>0.003</td>\n",
       "      <td>19977.3</td>\n",
       "      <td>0.126</td>\n",
       "      <td>19977.9</td>\n",
       "      <td>0.003</td>\n",
       "      <td>...</td>\n",
       "      <td>19975.9</td>\n",
       "      <td>0.246</td>\n",
       "      <td>19980.1</td>\n",
       "      <td>0.01</td>\n",
       "      <td>19975.8</td>\n",
       "      <td>0.686</td>\n",
       "      <td>19980.2</td>\n",
       "      <td>0.01</td>\n",
       "      <td>19975.7</td>\n",
       "      <td>4.455</td>\n",
       "    </tr>\n",
       "    <tr>\n",
       "      <th>2022-06-23 00:00:04.452706766</th>\n",
       "      <td>19977.5</td>\n",
       "      <td>0.079</td>\n",
       "      <td>19977.4</td>\n",
       "      <td>12.381</td>\n",
       "      <td>19977.8</td>\n",
       "      <td>0.003</td>\n",
       "      <td>19977.3</td>\n",
       "      <td>0.126</td>\n",
       "      <td>19977.9</td>\n",
       "      <td>0.003</td>\n",
       "      <td>...</td>\n",
       "      <td>19975.9</td>\n",
       "      <td>0.246</td>\n",
       "      <td>19980.1</td>\n",
       "      <td>0.01</td>\n",
       "      <td>19975.8</td>\n",
       "      <td>0.686</td>\n",
       "      <td>19980.2</td>\n",
       "      <td>0.01</td>\n",
       "      <td>19975.7</td>\n",
       "      <td>4.455</td>\n",
       "    </tr>\n",
       "  </tbody>\n",
       "</table>\n",
       "<p>5 rows × 40 columns</p>\n",
       "</div>"
      ],
      "text/plain": [
       "                               ask_price_0  ask_vol_0  bid_price_0  bid_vol_0  \\\n",
       "receive_ts                                                                      \n",
       "2022-06-23 00:00:02.250125991      19977.5      0.079      19977.4     12.381   \n",
       "2022-06-23 00:00:02.657844605      19977.5      0.078      19977.4     12.381   \n",
       "2022-06-23 00:00:03.346968722      19977.5      0.079      19977.4     12.381   \n",
       "2022-06-23 00:00:04.080791047      19977.5      0.079      19977.4     12.381   \n",
       "2022-06-23 00:00:04.452706766      19977.5      0.079      19977.4     12.381   \n",
       "\n",
       "                               ask_price_1  ask_vol_1  bid_price_1  bid_vol_1  \\\n",
       "receive_ts                                                                      \n",
       "2022-06-23 00:00:02.250125991      19977.8      0.003      19976.7      0.066   \n",
       "2022-06-23 00:00:02.657844605      19977.8      0.003      19977.3      0.126   \n",
       "2022-06-23 00:00:03.346968722      19977.8      0.003      19977.3      0.126   \n",
       "2022-06-23 00:00:04.080791047      19977.8      0.003      19977.3      0.126   \n",
       "2022-06-23 00:00:04.452706766      19977.8      0.003      19977.3      0.126   \n",
       "\n",
       "                               ask_price_2  ask_vol_2  ...  bid_price_7  \\\n",
       "receive_ts                                             ...                \n",
       "2022-06-23 00:00:02.250125991      19977.9      0.003  ...      19975.7   \n",
       "2022-06-23 00:00:02.657844605      19977.9      0.003  ...      19975.9   \n",
       "2022-06-23 00:00:03.346968722      19977.9      0.003  ...      19975.9   \n",
       "2022-06-23 00:00:04.080791047      19977.9      0.003  ...      19975.9   \n",
       "2022-06-23 00:00:04.452706766      19977.9      0.003  ...      19975.9   \n",
       "\n",
       "                               bid_vol_7  ask_price_8  ask_vol_8  bid_price_8  \\\n",
       "receive_ts                                                                      \n",
       "2022-06-23 00:00:02.250125991      4.455      19980.1       0.01      19975.6   \n",
       "2022-06-23 00:00:02.657844605      0.246      19980.1       0.01      19975.8   \n",
       "2022-06-23 00:00:03.346968722      0.246      19980.1       0.01      19975.8   \n",
       "2022-06-23 00:00:04.080791047      0.246      19980.1       0.01      19975.8   \n",
       "2022-06-23 00:00:04.452706766      0.246      19980.1       0.01      19975.8   \n",
       "\n",
       "                               bid_vol_8  ask_price_9  ask_vol_9  bid_price_9  \\\n",
       "receive_ts                                                                      \n",
       "2022-06-23 00:00:02.250125991      1.529      19980.2       0.01      19975.4   \n",
       "2022-06-23 00:00:02.657844605      0.686      19980.2       0.01      19975.7   \n",
       "2022-06-23 00:00:03.346968722      0.686      19980.2       0.01      19975.7   \n",
       "2022-06-23 00:00:04.080791047      0.686      19980.2       0.01      19975.7   \n",
       "2022-06-23 00:00:04.452706766      0.686      19980.2       0.01      19975.7   \n",
       "\n",
       "                               bid_vol_9  \n",
       "receive_ts                                \n",
       "2022-06-23 00:00:02.250125991      1.641  \n",
       "2022-06-23 00:00:02.657844605      4.455  \n",
       "2022-06-23 00:00:03.346968722      4.455  \n",
       "2022-06-23 00:00:04.080791047      4.455  \n",
       "2022-06-23 00:00:04.452706766      4.455  \n",
       "\n",
       "[5 rows x 40 columns]"
      ]
     },
     "execution_count": 7,
     "metadata": {},
     "output_type": "execute_result"
    }
   ],
   "source": [
    "lobs.head(5)"
   ]
  },
  {
   "cell_type": "code",
   "execution_count": 8,
   "id": "03a69156",
   "metadata": {},
   "outputs": [],
   "source": [
    "rule = '100ms'"
   ]
  },
  {
   "cell_type": "code",
   "execution_count": 9,
   "id": "1f2c7e6b",
   "metadata": {},
   "outputs": [],
   "source": [
    "lobs = lobs.resample(rule='100ms').agg(lambda x:x[0] if len(x) else np.nan)\n",
    "\n",
    "for i in range(1, len(lobs)):\n",
    "    if np.isnan(lobs.ask_price_0.iloc[i]):\n",
    "        lobs.iloc[i] = lobs.iloc[i - 1]"
   ]
  },
  {
   "cell_type": "code",
   "execution_count": 10,
   "id": "0e0f32a1",
   "metadata": {},
   "outputs": [
    {
     "data": {
      "text/html": [
       "<div>\n",
       "<style scoped>\n",
       "    .dataframe tbody tr th:only-of-type {\n",
       "        vertical-align: middle;\n",
       "    }\n",
       "\n",
       "    .dataframe tbody tr th {\n",
       "        vertical-align: top;\n",
       "    }\n",
       "\n",
       "    .dataframe thead th {\n",
       "        text-align: right;\n",
       "    }\n",
       "</style>\n",
       "<table border=\"1\" class=\"dataframe\">\n",
       "  <thead>\n",
       "    <tr style=\"text-align: right;\">\n",
       "      <th></th>\n",
       "      <th>ask_price_0</th>\n",
       "      <th>ask_vol_0</th>\n",
       "      <th>bid_price_0</th>\n",
       "      <th>bid_vol_0</th>\n",
       "      <th>ask_price_1</th>\n",
       "      <th>ask_vol_1</th>\n",
       "      <th>bid_price_1</th>\n",
       "      <th>bid_vol_1</th>\n",
       "      <th>ask_price_2</th>\n",
       "      <th>ask_vol_2</th>\n",
       "      <th>...</th>\n",
       "      <th>bid_price_7</th>\n",
       "      <th>bid_vol_7</th>\n",
       "      <th>ask_price_8</th>\n",
       "      <th>ask_vol_8</th>\n",
       "      <th>bid_price_8</th>\n",
       "      <th>bid_vol_8</th>\n",
       "      <th>ask_price_9</th>\n",
       "      <th>ask_vol_9</th>\n",
       "      <th>bid_price_9</th>\n",
       "      <th>bid_vol_9</th>\n",
       "    </tr>\n",
       "    <tr>\n",
       "      <th>receive_ts</th>\n",
       "      <th></th>\n",
       "      <th></th>\n",
       "      <th></th>\n",
       "      <th></th>\n",
       "      <th></th>\n",
       "      <th></th>\n",
       "      <th></th>\n",
       "      <th></th>\n",
       "      <th></th>\n",
       "      <th></th>\n",
       "      <th></th>\n",
       "      <th></th>\n",
       "      <th></th>\n",
       "      <th></th>\n",
       "      <th></th>\n",
       "      <th></th>\n",
       "      <th></th>\n",
       "      <th></th>\n",
       "      <th></th>\n",
       "      <th></th>\n",
       "      <th></th>\n",
       "    </tr>\n",
       "  </thead>\n",
       "  <tbody>\n",
       "    <tr>\n",
       "      <th>2022-06-23 00:00:02.200</th>\n",
       "      <td>19977.5</td>\n",
       "      <td>0.079</td>\n",
       "      <td>19977.4</td>\n",
       "      <td>12.381</td>\n",
       "      <td>19977.8</td>\n",
       "      <td>0.003</td>\n",
       "      <td>19976.7</td>\n",
       "      <td>0.066</td>\n",
       "      <td>19977.9</td>\n",
       "      <td>0.003</td>\n",
       "      <td>...</td>\n",
       "      <td>19975.7</td>\n",
       "      <td>4.455</td>\n",
       "      <td>19980.1</td>\n",
       "      <td>0.01</td>\n",
       "      <td>19975.6</td>\n",
       "      <td>1.529</td>\n",
       "      <td>19980.2</td>\n",
       "      <td>0.01</td>\n",
       "      <td>19975.4</td>\n",
       "      <td>1.641</td>\n",
       "    </tr>\n",
       "    <tr>\n",
       "      <th>2022-06-23 00:00:02.300</th>\n",
       "      <td>19977.5</td>\n",
       "      <td>0.079</td>\n",
       "      <td>19977.4</td>\n",
       "      <td>12.381</td>\n",
       "      <td>19977.8</td>\n",
       "      <td>0.003</td>\n",
       "      <td>19976.7</td>\n",
       "      <td>0.066</td>\n",
       "      <td>19977.9</td>\n",
       "      <td>0.003</td>\n",
       "      <td>...</td>\n",
       "      <td>19975.7</td>\n",
       "      <td>4.455</td>\n",
       "      <td>19980.1</td>\n",
       "      <td>0.01</td>\n",
       "      <td>19975.6</td>\n",
       "      <td>1.529</td>\n",
       "      <td>19980.2</td>\n",
       "      <td>0.01</td>\n",
       "      <td>19975.4</td>\n",
       "      <td>1.641</td>\n",
       "    </tr>\n",
       "    <tr>\n",
       "      <th>2022-06-23 00:00:02.400</th>\n",
       "      <td>19977.5</td>\n",
       "      <td>0.079</td>\n",
       "      <td>19977.4</td>\n",
       "      <td>12.381</td>\n",
       "      <td>19977.8</td>\n",
       "      <td>0.003</td>\n",
       "      <td>19976.7</td>\n",
       "      <td>0.066</td>\n",
       "      <td>19977.9</td>\n",
       "      <td>0.003</td>\n",
       "      <td>...</td>\n",
       "      <td>19975.7</td>\n",
       "      <td>4.455</td>\n",
       "      <td>19980.1</td>\n",
       "      <td>0.01</td>\n",
       "      <td>19975.6</td>\n",
       "      <td>1.529</td>\n",
       "      <td>19980.2</td>\n",
       "      <td>0.01</td>\n",
       "      <td>19975.4</td>\n",
       "      <td>1.641</td>\n",
       "    </tr>\n",
       "    <tr>\n",
       "      <th>2022-06-23 00:00:02.500</th>\n",
       "      <td>19977.5</td>\n",
       "      <td>0.079</td>\n",
       "      <td>19977.4</td>\n",
       "      <td>12.381</td>\n",
       "      <td>19977.8</td>\n",
       "      <td>0.003</td>\n",
       "      <td>19976.7</td>\n",
       "      <td>0.066</td>\n",
       "      <td>19977.9</td>\n",
       "      <td>0.003</td>\n",
       "      <td>...</td>\n",
       "      <td>19975.7</td>\n",
       "      <td>4.455</td>\n",
       "      <td>19980.1</td>\n",
       "      <td>0.01</td>\n",
       "      <td>19975.6</td>\n",
       "      <td>1.529</td>\n",
       "      <td>19980.2</td>\n",
       "      <td>0.01</td>\n",
       "      <td>19975.4</td>\n",
       "      <td>1.641</td>\n",
       "    </tr>\n",
       "    <tr>\n",
       "      <th>2022-06-23 00:00:02.600</th>\n",
       "      <td>19977.5</td>\n",
       "      <td>0.078</td>\n",
       "      <td>19977.4</td>\n",
       "      <td>12.381</td>\n",
       "      <td>19977.8</td>\n",
       "      <td>0.003</td>\n",
       "      <td>19977.3</td>\n",
       "      <td>0.126</td>\n",
       "      <td>19977.9</td>\n",
       "      <td>0.003</td>\n",
       "      <td>...</td>\n",
       "      <td>19975.9</td>\n",
       "      <td>0.246</td>\n",
       "      <td>19980.1</td>\n",
       "      <td>0.01</td>\n",
       "      <td>19975.8</td>\n",
       "      <td>0.686</td>\n",
       "      <td>19980.2</td>\n",
       "      <td>0.01</td>\n",
       "      <td>19975.7</td>\n",
       "      <td>4.455</td>\n",
       "    </tr>\n",
       "  </tbody>\n",
       "</table>\n",
       "<p>5 rows × 40 columns</p>\n",
       "</div>"
      ],
      "text/plain": [
       "                         ask_price_0  ask_vol_0  bid_price_0  bid_vol_0  \\\n",
       "receive_ts                                                                \n",
       "2022-06-23 00:00:02.200      19977.5      0.079      19977.4     12.381   \n",
       "2022-06-23 00:00:02.300      19977.5      0.079      19977.4     12.381   \n",
       "2022-06-23 00:00:02.400      19977.5      0.079      19977.4     12.381   \n",
       "2022-06-23 00:00:02.500      19977.5      0.079      19977.4     12.381   \n",
       "2022-06-23 00:00:02.600      19977.5      0.078      19977.4     12.381   \n",
       "\n",
       "                         ask_price_1  ask_vol_1  bid_price_1  bid_vol_1  \\\n",
       "receive_ts                                                                \n",
       "2022-06-23 00:00:02.200      19977.8      0.003      19976.7      0.066   \n",
       "2022-06-23 00:00:02.300      19977.8      0.003      19976.7      0.066   \n",
       "2022-06-23 00:00:02.400      19977.8      0.003      19976.7      0.066   \n",
       "2022-06-23 00:00:02.500      19977.8      0.003      19976.7      0.066   \n",
       "2022-06-23 00:00:02.600      19977.8      0.003      19977.3      0.126   \n",
       "\n",
       "                         ask_price_2  ask_vol_2  ...  bid_price_7  bid_vol_7  \\\n",
       "receive_ts                                       ...                           \n",
       "2022-06-23 00:00:02.200      19977.9      0.003  ...      19975.7      4.455   \n",
       "2022-06-23 00:00:02.300      19977.9      0.003  ...      19975.7      4.455   \n",
       "2022-06-23 00:00:02.400      19977.9      0.003  ...      19975.7      4.455   \n",
       "2022-06-23 00:00:02.500      19977.9      0.003  ...      19975.7      4.455   \n",
       "2022-06-23 00:00:02.600      19977.9      0.003  ...      19975.9      0.246   \n",
       "\n",
       "                         ask_price_8  ask_vol_8  bid_price_8  bid_vol_8  \\\n",
       "receive_ts                                                                \n",
       "2022-06-23 00:00:02.200      19980.1       0.01      19975.6      1.529   \n",
       "2022-06-23 00:00:02.300      19980.1       0.01      19975.6      1.529   \n",
       "2022-06-23 00:00:02.400      19980.1       0.01      19975.6      1.529   \n",
       "2022-06-23 00:00:02.500      19980.1       0.01      19975.6      1.529   \n",
       "2022-06-23 00:00:02.600      19980.1       0.01      19975.8      0.686   \n",
       "\n",
       "                         ask_price_9  ask_vol_9  bid_price_9  bid_vol_9  \n",
       "receive_ts                                                               \n",
       "2022-06-23 00:00:02.200      19980.2       0.01      19975.4      1.641  \n",
       "2022-06-23 00:00:02.300      19980.2       0.01      19975.4      1.641  \n",
       "2022-06-23 00:00:02.400      19980.2       0.01      19975.4      1.641  \n",
       "2022-06-23 00:00:02.500      19980.2       0.01      19975.4      1.641  \n",
       "2022-06-23 00:00:02.600      19980.2       0.01      19975.7      4.455  \n",
       "\n",
       "[5 rows x 40 columns]"
      ]
     },
     "execution_count": 10,
     "metadata": {},
     "output_type": "execute_result"
    }
   ],
   "source": [
    "lobs.head(5)"
   ]
  },
  {
   "cell_type": "code",
   "execution_count": 288,
   "id": "326c45fc",
   "metadata": {},
   "outputs": [],
   "source": [
    "n_layers = 1\n",
    "\n",
    "ask_price, bid_price, ask_vol, bid_vol = agg_data(lobs, n_layers)\n",
    "\n",
    "mid_price = (ask_price + bid_price) / 2.0\n",
    "spread    = (ask_price - bid_price)\n",
    "imb      = (bid_vol) / (ask_vol + bid_vol)\n",
    "\n",
    "dm = np.diff(mid_price)"
   ]
  },
  {
   "cell_type": "code",
   "execution_count": 289,
   "id": "75c1901e",
   "metadata": {},
   "outputs": [],
   "source": [
    "lim = 10\n",
    "log = True\n",
    "hist_bins = 20"
   ]
  },
  {
   "cell_type": "markdown",
   "id": "f494dd0e",
   "metadata": {},
   "source": [
    "# Results"
   ]
  },
  {
   "cell_type": "markdown",
   "id": "f229699e",
   "metadata": {},
   "source": [
    "## Гистограммы закодированных dM для разных числов бинов.\n",
    "\n",
    "\n",
    "Ниже представлены гистограммы исходной выборки $\\{\\Delta M_i\\}$ и преобразованной $\\{f(\\Delta M_i)\\}$ для разного числа бинов. Гистограмма в логарифмическом масштабе, так как в нормальном масштабе видны большие вплески вблизи нуля. Видно, что 50 и 100 бинов уже достаточно хорошо описывают исходную выборку. Стоит обратить внимание, что для 50 бинов гистограммы отличаются в хвостах, где плотность достаточно близка к нулю. Основную информацию несёт центральная часть гистограммы."
   ]
  },
  {
   "cell_type": "code",
   "execution_count": 290,
   "id": "04eecaad",
   "metadata": {},
   "outputs": [
    {
     "data": {
      "image/png": "[encoded data removed]",
      "text/plain": [
       "<Figure size 1080x360 with 2 Axes>"
      ]
     },
     "metadata": {
      "needs_background": "light"
     },
     "output_type": "display_data"
    },
    {
     "data": {
      "image/png": "[encoded data removed]",
      "text/plain": [
       "<Figure size 1080x360 with 2 Axes>"
      ]
     },
     "metadata": {
      "needs_background": "light"
     },
     "output_type": "display_data"
    },
    {
     "data": {
      "image/png": "[encoded data removed]",
      "text/plain": [
       "<Figure size 1080x360 with 2 Axes>"
      ]
     },
     "metadata": {
      "needs_background": "light"
     },
     "output_type": "display_data"
    },
    {
     "data": {
      "image/png": "[encoded data removed]",
      "text/plain": [
       "<Figure size 1080x360 with 2 Axes>"
      ]
     },
     "metadata": {
      "needs_background": "light"
     },
     "output_type": "display_data"
    },
    {
     "data": {
      "image/png": "[encoded data removed]",
      "text/plain": [
       "<Figure size 1080x360 with 2 Axes>"
      ]
     },
     "metadata": {
      "needs_background": "light"
     },
     "output_type": "display_data"
    }
   ],
   "source": [
    "for n_bins in [10, 20, 50, 100, 200]:\n",
    "    dm_encoder = MidPriceEncoder(n_bins=n_bins, tick_size=0.01)\n",
    "    dm_encoder.fit(dm)\n",
    "    dm_pr = dm_encoder.predict(dm)\n",
    "    \n",
    "    fig, ax = plt.subplots(1, 2, figsize=(15, 5), sharey=True, sharex=True)\n",
    "    fig.suptitle(f\"{dm_encoder.k_dm} bins\", fontsize=25)\n",
    "    ax[1].hist(dm_pr[(-lim <= dm_pr) &(dm_pr <= lim) ], bins=hist_bins, density=True, log=log)\n",
    "    ax[1].grid(True)\n",
    "    ax[1].set_title(\"Transformed\", fontsize=20)\n",
    "\n",
    "    ax[0].hist(dm[(-lim <= dm) &(dm <= lim) ], bins=hist_bins, density=True, log=log)\n",
    "    ax[0].grid(True)\n",
    "    ax[0].set_title(\"Initial\", fontsize=20)\n",
    "    plt.tight_layout(pad=2)\n",
    "plt.show()"
   ]
  },
  {
   "cell_type": "markdown",
   "id": "48399faa",
   "metadata": {},
   "source": [
    "## Первые 20 уникальных значений $\\Delta M$. Видно, что они идут с шагом 0.5, т.е. с шагом в пол тика"
   ]
  },
  {
   "cell_type": "code",
   "execution_count": 293,
   "id": "84c003bc",
   "metadata": {},
   "outputs": [
    {
     "data": {
      "text/plain": [
       "[0.0,\n",
       " 0.05,\n",
       " 0.1,\n",
       " 0.15,\n",
       " 0.2,\n",
       " 0.25,\n",
       " 0.3,\n",
       " 0.35000000000000003,\n",
       " 0.4,\n",
       " 0.45,\n",
       " 0.5,\n",
       " 0.55,\n",
       " 0.6,\n",
       " 0.65,\n",
       " 0.7000000000000001,\n",
       " 0.75,\n",
       " 0.8,\n",
       " 0.85,\n",
       " 0.9,\n",
       " 0.9500000000000001]"
      ]
     },
     "execution_count": 293,
     "metadata": {},
     "output_type": "execute_result"
    }
   ],
   "source": [
    "sorted(set(np.abs(dm_encoder.dm_set)))[:20]"
   ]
  },
  {
   "cell_type": "markdown",
   "id": "dda42af5",
   "metadata": {},
   "source": [
    "## Тоже самое, но после усреднения по 3 уровням.\n",
    "\n",
    "\n",
    "Ниже представлены гистограммы исходной выборки $\\{\\Delta M_i\\}$ и преобразованной $\\{f(\\Delta M_i)\\}$ для разного числа бинов после усреднения по 3 уровням. Видно, что чтобы описать истинную гистограмму нужно большее число бинов, так как они идут с меньшим шагом. 99 бинов выглядят норм."
   ]
  },
  {
   "cell_type": "code",
   "execution_count": 298,
   "id": "fc83f74d",
   "metadata": {},
   "outputs": [
    {
     "data": {
      "image/png": "[encoded data removed]",
      "text/plain": [
       "<Figure size 1080x360 with 2 Axes>"
      ]
     },
     "metadata": {
      "needs_background": "light"
     },
     "output_type": "display_data"
    },
    {
     "data": {
      "image/png": "[encoded data removed]",
      "text/plain": [
       "<Figure size 1080x360 with 2 Axes>"
      ]
     },
     "metadata": {
      "needs_background": "light"
     },
     "output_type": "display_data"
    },
    {
     "data": {
      "image/png": "[encoded data removed]",
      "text/plain": [
       "<Figure size 1080x360 with 2 Axes>"
      ]
     },
     "metadata": {
      "needs_background": "light"
     },
     "output_type": "display_data"
    },
    {
     "data": {
      "image/png": "[encoded data removed]",
      "text/plain": [
       "<Figure size 1080x360 with 2 Axes>"
      ]
     },
     "metadata": {
      "needs_background": "light"
     },
     "output_type": "display_data"
    },
    {
     "data": {
      "image/png": "[encoded data removed]",
      "text/plain": [
       "<Figure size 1080x360 with 2 Axes>"
      ]
     },
     "metadata": {
      "needs_background": "light"
     },
     "output_type": "display_data"
    }
   ],
   "source": [
    "n_layers = 3\n",
    "\n",
    "ask_price, bid_price, ask_vol, bid_vol = agg_data(lobs, n_layers)\n",
    "\n",
    "mid_price = (ask_price + bid_price) / 2.0\n",
    "spread    = (ask_price - bid_price)\n",
    "imb      = (bid_vol) / (ask_vol + bid_vol)\n",
    "\n",
    "dm = np.diff(mid_price)\n",
    "\n",
    "\n",
    "lim = 5\n",
    "log = True\n",
    "hist_bins = 20\n",
    "\n",
    "\n",
    "for n_bins in [10, 20, 50, 100, 200]:\n",
    "    dm_encoder = MidPriceEncoder(n_bins=n_bins, tick_size=0.01)\n",
    "    dm_encoder.fit(dm)\n",
    "    dm_pr = dm_encoder.predict(dm)\n",
    "    \n",
    "    fig, ax = plt.subplots(1, 2, figsize=(15, 5), sharey=True, sharex=True)\n",
    "    fig.suptitle(f\"{dm_encoder.k_dm} bins\", fontsize=25)\n",
    "    ax[1].hist(dm_pr[(-lim <= dm_pr) &(dm_pr <= lim) ], bins=hist_bins, density=True, log=log)\n",
    "    ax[1].grid(True)\n",
    "    ax[1].set_title(\"Transformed\", fontsize=20)\n",
    "\n",
    "    ax[0].hist(dm[(-lim <= dm) &(dm <= lim) ], bins=hist_bins, density=True, log=log)\n",
    "    ax[0].grid(True)\n",
    "    ax[0].set_title(\"Initial\", fontsize=20)\n",
    "    plt.tight_layout(pad=2)\n",
    "plt.show()"
   ]
  },
  {
   "cell_type": "markdown",
   "id": "7e2a71a0",
   "metadata": {},
   "source": [
    "## Первые 20 уникальных значений $\\Delta M$. Видно, что они идут с шагом 0.01, т.е. с маленьим шагом. Это эффект усреднения."
   ]
  },
  {
   "cell_type": "code",
   "execution_count": 295,
   "id": "40a2cc07",
   "metadata": {},
   "outputs": [
    {
     "data": {
      "text/plain": [
       "[0.0,\n",
       " 0.01,\n",
       " 0.02,\n",
       " 0.03,\n",
       " 0.04,\n",
       " 0.05,\n",
       " 0.06,\n",
       " 0.07,\n",
       " 0.08,\n",
       " 0.09,\n",
       " 0.1,\n",
       " 0.11,\n",
       " 0.12,\n",
       " 0.13,\n",
       " 0.14,\n",
       " 0.15,\n",
       " 0.16,\n",
       " 0.17,\n",
       " 0.18,\n",
       " 0.19]"
      ]
     },
     "execution_count": 295,
     "metadata": {},
     "output_type": "execute_result"
    }
   ],
   "source": [
    "sorted(set(np.abs(dm_encoder.dm_set)))[:20]"
   ]
  }
 ],
 "metadata": {
  "kernelspec": {
   "display_name": "Python 3 (ipykernel)",
   "language": "python",
   "name": "python3"
  },
  "language_info": {
   "codemirror_mode": {
    "name": "ipython",
    "version": 3
   },
   "file_extension": ".py",
   "mimetype": "text/x-python",
   "name": "python",
   "nbconvert_exporter": "python",
   "pygments_lexer": "ipython3",
   "version": "3.9.7"
  },
  "toc": {
   "base_numbering": 1,
   "nav_menu": {},
   "number_sections": true,
   "sideBar": true,
   "skip_h1_title": false,
   "title_cell": "Table of Contents",
   "title_sidebar": "Contents",
   "toc_cell": false,
   "toc_position": {},
   "toc_section_display": true,
   "toc_window_display": false
  }
 },
 "nbformat": 4,
 "nbformat_minor": 5
}
