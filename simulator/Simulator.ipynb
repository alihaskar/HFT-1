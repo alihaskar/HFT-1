{
 "cells": [
  {
   "cell_type": "code",
   "execution_count": 1,
   "id": "3a2184ed",
   "metadata": {},
   "outputs": [],
   "source": [
    "from simulator import Sim\n",
    "from simulator_optimized import SimOptim\n",
    "from strategy import BestPosStrategy\n",
    "from get_info import get_pnl\n",
    "from load_data import load_md_from_file\n",
    "\n",
    "\n",
    "import pandas as pd\n",
    "import numpy as np\n",
    "from matplotlib import pyplot as plt\n",
    "\n",
    "PATH_TO_FILE = '../md/btcusdt:Binance:LinearPerpetual/'\n",
    "T = pd.Timedelta(10, 'm').delta"
   ]
  },
  {
   "cell_type": "code",
   "execution_count": 2,
   "id": "ec48792b",
   "metadata": {},
   "outputs": [],
   "source": [
    "md = load_md_from_file(path=PATH_TO_FILE, T=T)"
   ]
  },
  {
   "cell_type": "code",
   "execution_count": 3,
   "id": "d6a478b4",
   "metadata": {},
   "outputs": [],
   "source": [
    "latency = pd.Timedelta(10, 'ms').delta\n",
    "md_latency = pd.Timedelta(10, 'ms').delta\n",
    "\n",
    "sim = Sim(md, latency, md_latency)"
   ]
  },
  {
   "cell_type": "code",
   "execution_count": 4,
   "id": "4e657f6c",
   "metadata": {},
   "outputs": [],
   "source": [
    "#delay between orders\n",
    "delay = pd.Timedelta(0.1, 's').delta\n",
    "\n",
    "hold_time = pd.Timedelta(10, 's').delta\n",
    "\n",
    "strategy = BestPosStrategy(delay, hold_time)"
   ]
  },
  {
   "cell_type": "code",
   "execution_count": 5,
   "id": "0c887061",
   "metadata": {},
   "outputs": [
    {
     "name": "stdout",
     "output_type": "stream",
     "text": [
      "CPU times: user 1.47 s, sys: 3.89 ms, total: 1.48 s\n",
      "Wall time: 1.47 s\n"
     ]
    }
   ],
   "source": [
    "%time trades_list, md_list, updates_list, all_orders = strategy.run(sim)"
   ]
  },
  {
   "cell_type": "code",
   "execution_count": 6,
   "id": "5c191924",
   "metadata": {},
   "outputs": [
    {
     "name": "stdout",
     "output_type": "stream",
     "text": [
      "CPU times: user 105 ms, sys: 18 µs, total: 105 ms\n",
      "Wall time: 104 ms\n"
     ]
    }
   ],
   "source": [
    "%time df = get_pnl(updates_list)"
   ]
  },
  {
   "cell_type": "code",
   "execution_count": 7,
   "id": "015ac504",
   "metadata": {},
   "outputs": [
    {
     "data": {
      "text/plain": [
       "0       2022-06-23 00:00:02.250125991\n",
       "1       2022-06-23 00:00:02.624789714\n",
       "2       2022-06-23 00:00:02.633000000\n",
       "3       2022-06-23 00:00:02.657844605\n",
       "4       2022-06-23 00:00:03.346968722\n",
       "                     ...             \n",
       "85454   2022-06-23 00:10:02.608802667\n",
       "85455   2022-06-23 00:10:02.608835765\n",
       "85456   2022-06-23 00:10:02.619433077\n",
       "85457   2022-06-23 00:10:02.619468006\n",
       "85458   2022-06-23 00:10:02.628000000\n",
       "Name: receive_ts, Length: 85459, dtype: datetime64[ns]"
      ]
     },
     "execution_count": 7,
     "metadata": {},
     "output_type": "execute_result"
    }
   ],
   "source": [
    "pd.to_datetime(df.receive_ts)"
   ]
  },
  {
   "cell_type": "code",
   "execution_count": 8,
   "id": "36589e0d",
   "metadata": {},
   "outputs": [
    {
     "data": {
      "text/html": [
       "<div>\n",
       "<style scoped>\n",
       "    .dataframe tbody tr th:only-of-type {\n",
       "        vertical-align: middle;\n",
       "    }\n",
       "\n",
       "    .dataframe tbody tr th {\n",
       "        vertical-align: top;\n",
       "    }\n",
       "\n",
       "    .dataframe thead th {\n",
       "        text-align: right;\n",
       "    }\n",
       "</style>\n",
       "<table border=\"1\" class=\"dataframe\">\n",
       "  <thead>\n",
       "    <tr style=\"text-align: right;\">\n",
       "      <th></th>\n",
       "      <th>exchange_ts</th>\n",
       "      <th>receive_ts</th>\n",
       "      <th>total</th>\n",
       "      <th>BTC</th>\n",
       "      <th>USD</th>\n",
       "      <th>mid_price</th>\n",
       "    </tr>\n",
       "  </thead>\n",
       "  <tbody>\n",
       "    <tr>\n",
       "      <th>0</th>\n",
       "      <td>1655942402249000000</td>\n",
       "      <td>1655942402250125991</td>\n",
       "      <td>0.00000</td>\n",
       "      <td>0.000</td>\n",
       "      <td>0.0000</td>\n",
       "      <td>19977.45</td>\n",
       "    </tr>\n",
       "    <tr>\n",
       "      <th>1</th>\n",
       "      <td>1655942402623000000</td>\n",
       "      <td>1655942402624789714</td>\n",
       "      <td>0.00000</td>\n",
       "      <td>0.000</td>\n",
       "      <td>0.0000</td>\n",
       "      <td>19977.45</td>\n",
       "    </tr>\n",
       "    <tr>\n",
       "      <th>2</th>\n",
       "      <td>1655942402623000000</td>\n",
       "      <td>1655942402633000000</td>\n",
       "      <td>0.00005</td>\n",
       "      <td>-0.001</td>\n",
       "      <td>19.9775</td>\n",
       "      <td>19977.45</td>\n",
       "    </tr>\n",
       "    <tr>\n",
       "      <th>3</th>\n",
       "      <td>1655942402655000000</td>\n",
       "      <td>1655942402657844605</td>\n",
       "      <td>0.00005</td>\n",
       "      <td>-0.001</td>\n",
       "      <td>19.9775</td>\n",
       "      <td>19977.45</td>\n",
       "    </tr>\n",
       "    <tr>\n",
       "      <th>4</th>\n",
       "      <td>1655942403346000000</td>\n",
       "      <td>1655942403346968722</td>\n",
       "      <td>0.00005</td>\n",
       "      <td>-0.001</td>\n",
       "      <td>19.9775</td>\n",
       "      <td>19977.45</td>\n",
       "    </tr>\n",
       "    <tr>\n",
       "      <th>...</th>\n",
       "      <td>...</td>\n",
       "      <td>...</td>\n",
       "      <td>...</td>\n",
       "      <td>...</td>\n",
       "      <td>...</td>\n",
       "      <td>...</td>\n",
       "    </tr>\n",
       "    <tr>\n",
       "      <th>85454</th>\n",
       "      <td>1655943002598000000</td>\n",
       "      <td>1655943002608802667</td>\n",
       "      <td>-13.65185</td>\n",
       "      <td>-0.195</td>\n",
       "      <td>3897.2779</td>\n",
       "      <td>20056.05</td>\n",
       "    </tr>\n",
       "    <tr>\n",
       "      <th>85455</th>\n",
       "      <td>1655943002598000000</td>\n",
       "      <td>1655943002608835765</td>\n",
       "      <td>-13.63235</td>\n",
       "      <td>-0.195</td>\n",
       "      <td>3897.2779</td>\n",
       "      <td>20055.95</td>\n",
       "    </tr>\n",
       "    <tr>\n",
       "      <th>85456</th>\n",
       "      <td>1655943002618000000</td>\n",
       "      <td>1655943002619433077</td>\n",
       "      <td>-13.61285</td>\n",
       "      <td>-0.195</td>\n",
       "      <td>3897.2779</td>\n",
       "      <td>20055.85</td>\n",
       "    </tr>\n",
       "    <tr>\n",
       "      <th>85457</th>\n",
       "      <td>1655943002618000000</td>\n",
       "      <td>1655943002619468006</td>\n",
       "      <td>-13.61285</td>\n",
       "      <td>-0.195</td>\n",
       "      <td>3897.2779</td>\n",
       "      <td>20055.85</td>\n",
       "    </tr>\n",
       "    <tr>\n",
       "      <th>85458</th>\n",
       "      <td>1655943002618000000</td>\n",
       "      <td>1655943002628000000</td>\n",
       "      <td>-13.61300</td>\n",
       "      <td>-0.194</td>\n",
       "      <td>3877.2219</td>\n",
       "      <td>20055.85</td>\n",
       "    </tr>\n",
       "  </tbody>\n",
       "</table>\n",
       "<p>85459 rows × 6 columns</p>\n",
       "</div>"
      ],
      "text/plain": [
       "               exchange_ts           receive_ts     total    BTC        USD  \\\n",
       "0      1655942402249000000  1655942402250125991   0.00000  0.000     0.0000   \n",
       "1      1655942402623000000  1655942402624789714   0.00000  0.000     0.0000   \n",
       "2      1655942402623000000  1655942402633000000   0.00005 -0.001    19.9775   \n",
       "3      1655942402655000000  1655942402657844605   0.00005 -0.001    19.9775   \n",
       "4      1655942403346000000  1655942403346968722   0.00005 -0.001    19.9775   \n",
       "...                    ...                  ...       ...    ...        ...   \n",
       "85454  1655943002598000000  1655943002608802667 -13.65185 -0.195  3897.2779   \n",
       "85455  1655943002598000000  1655943002608835765 -13.63235 -0.195  3897.2779   \n",
       "85456  1655943002618000000  1655943002619433077 -13.61285 -0.195  3897.2779   \n",
       "85457  1655943002618000000  1655943002619468006 -13.61285 -0.195  3897.2779   \n",
       "85458  1655943002618000000  1655943002628000000 -13.61300 -0.194  3877.2219   \n",
       "\n",
       "       mid_price  \n",
       "0       19977.45  \n",
       "1       19977.45  \n",
       "2       19977.45  \n",
       "3       19977.45  \n",
       "4       19977.45  \n",
       "...          ...  \n",
       "85454   20056.05  \n",
       "85455   20055.95  \n",
       "85456   20055.85  \n",
       "85457   20055.85  \n",
       "85458   20055.85  \n",
       "\n",
       "[85459 rows x 6 columns]"
      ]
     },
     "execution_count": 8,
     "metadata": {},
     "output_type": "execute_result"
    }
   ],
   "source": [
    "df"
   ]
  },
  {
   "cell_type": "code",
   "execution_count": 9,
   "id": "6f371738",
   "metadata": {},
   "outputs": [],
   "source": [
    "dt = pd.to_datetime(df.receive_ts)"
   ]
  },
  {
   "cell_type": "code",
   "execution_count": 10,
   "id": "f88031be",
   "metadata": {},
   "outputs": [
    {
     "data": {
      "image/png": "[encoded data removed]",
      "text/plain": [
       "<Figure size 720x360 with 1 Axes>"
      ]
     },
     "metadata": {
      "needs_background": "light"
     },
     "output_type": "display_data"
    }
   ],
   "source": [
    "plt.figure(figsize=(10, 5))\n",
    "plt.plot(dt, df.total, '-')\n",
    "plt.xlabel(\"time\", fontsize=13)\n",
    "plt.ylabel(\"PnL\", fontsize=13)\n",
    "plt.title(\"BestStrategy PnL\", fontsize=15)\n",
    "plt.grid()\n",
    "plt.show()"
   ]
  },
  {
   "cell_type": "code",
   "execution_count": 11,
   "id": "93c4cb6f",
   "metadata": {},
   "outputs": [],
   "source": [
    "from simulator import Sim\n",
    "from strategy import BestPosStrategy\n",
    "from get_info import get_pnl\n",
    "from load_data import merge_books_and_trades\n",
    "\n",
    "\n",
    "import pandas as pd\n",
    "import numpy as np\n",
    "from matplotlib import pyplot as plt"
   ]
  },
  {
   "cell_type": "code",
   "execution_count": 12,
   "id": "077557e8",
   "metadata": {},
   "outputs": [],
   "source": [
    "from simulator import MdUpdate, OrderbookSnapshotUpdate, AnonTrade\n",
    "\n",
    "from get_info import md_to_dataframe, trade_to_dataframe"
   ]
  },
  {
   "cell_type": "code",
   "execution_count": 13,
   "id": "70330ff4",
   "metadata": {},
   "outputs": [],
   "source": [
    "def generate_sample_data_1(n_points):\n",
    "    '''\n",
    "        this function generates market data with constant mid price and occasional trades\n",
    "    '''\n",
    "    mid_price = 100.0\n",
    "    spread = 2.0\n",
    "    bid_price = mid_price - spread / 2\n",
    "    ask_price = mid_price + spread / 2\n",
    "    size = 1\n",
    "    \n",
    "    books = [OrderbookSnapshotUpdate(2 * i, 2 * i, [(ask_price, size)], [(bid_price, size)]) for i in range(1) ]\n",
    "    \n",
    "    trades = []\n",
    "    p = 0.25\n",
    "    trade_id = np.random.choice([0, 1], size=n_points, p=[1-p, p])\n",
    "    trade_id = [i % 5 == 0 for i in range(n_points)]\n",
    "    for i in range(n_points):\n",
    "        \n",
    "        if trade_id[i]:\n",
    "            \n",
    "            side = np.random.choice([0, 1], size=1)[0]\n",
    "            price = bid_price if side else ask_price\n",
    "            side = \"ASK\" if side else \"BID\" \n",
    "            trade = AnonTrade(2 * i + 1, 2 * i + 1, side, size, price)\n",
    "            trades.append(trade)\n",
    "\n",
    "    return books, trades"
   ]
  },
  {
   "cell_type": "code",
   "execution_count": 14,
   "id": "be3a9d8a",
   "metadata": {},
   "outputs": [],
   "source": [
    "def generate_sample_data_2(n_points):\n",
    "    '''\n",
    "        this function generates market data with lineary increasing mid price and \n",
    "        limit orders at the same distance from the mid price\n",
    "    '''   \n",
    "    mid_price = 100.0\n",
    "    spread = 2.0\n",
    "    bid_price = mid_price - spread / 2\n",
    "    ask_price = mid_price + spread / 2\n",
    "    size = 1\n",
    "    \n",
    "    books = []\n",
    "    \n",
    "    \n",
    "    trades = []\n",
    "    p = 0.5\n",
    "    for i in range(n_points):\n",
    "        \n",
    "        bid_price = mid_price - spread / 2\n",
    "        ask_price = mid_price + spread / 2\n",
    "        \n",
    "        book = OrderbookSnapshotUpdate(i, i, [(ask_price, size)], [(bid_price, size)])\n",
    "        books.append( book  )\n",
    "        mid_price += 1\n",
    "    return books, trades"
   ]
  },
  {
   "cell_type": "code",
   "execution_count": 15,
   "id": "12251a9e",
   "metadata": {},
   "outputs": [
    {
     "data": {
      "image/png": "[encoded data removed]",
      "text/plain": [
       "<Figure size 720x360 with 1 Axes>"
      ]
     },
     "metadata": {
      "needs_background": "light"
     },
     "output_type": "display_data"
    }
   ],
   "source": [
    "books, anon_trades = generate_sample_data_2(20)\n",
    "\n",
    "md = merge_books_and_trades(books, anon_trades)\n",
    "\n",
    "latency = pd.Timedelta(0, 'ns').delta\n",
    "md_latency = pd.Timedelta(0, 'ns').delta\n",
    "sim = Sim(md, latency, md_latency)\n",
    "\n",
    "#delay between orders\n",
    "delay = pd.Timedelta(1, 'ns').delta\n",
    "hold_time = pd.Timedelta(1000, 'ns').delta\n",
    "strategy = BestPosStrategy(delay, hold_time)\n",
    "\n",
    "own_trades, md_list, updates_list, all_orders = strategy.run(sim)\n",
    "\n",
    "df_info = get_pnl(updates_list)\n",
    "t = df_info.receive_ts.values\n",
    "\n",
    "plt.figure(figsize=(10, 5))\n",
    "plt.plot(t, df_info.total, '.-', 'PnL')\n",
    "plt.xlabel(\"time\", fontsize=13)\n",
    "plt.ylabel(\"PnL\", fontsize=13)\n",
    "\n",
    "plt.title(\"BestStrategy PnL\", fontsize=15)\n",
    "plt.grid()\n",
    "plt.show()"
   ]
  },
  {
   "cell_type": "code",
   "execution_count": 16,
   "id": "aef6c952",
   "metadata": {},
   "outputs": [
    {
     "data": {
      "text/plain": [
       "[MdUpdate(exchange_ts=0, receive_ts=0, orderbook=OrderbookSnapshotUpdate(exchange_ts=0, receive_ts=0, asks=[(101.0, 1)], bids=[(99.0, 1)]), trade=None),\n",
       " MdUpdate(exchange_ts=1, receive_ts=1, orderbook=OrderbookSnapshotUpdate(exchange_ts=1, receive_ts=1, asks=[(102.0, 1)], bids=[(100.0, 1)]), trade=None),\n",
       " MdUpdate(exchange_ts=2, receive_ts=2, orderbook=OrderbookSnapshotUpdate(exchange_ts=2, receive_ts=2, asks=[(103.0, 1)], bids=[(101.0, 1)]), trade=None),\n",
       " OwnTrade(place_ts=0, exchange_ts=2, receive_ts=2, trade_id=0, order_id=1, side='ASK', size=0.001, price=101.0, execute='BOOK'),\n",
       " MdUpdate(exchange_ts=3, receive_ts=3, orderbook=OrderbookSnapshotUpdate(exchange_ts=3, receive_ts=3, asks=[(104.0, 1)], bids=[(102.0, 1)]), trade=None),\n",
       " OwnTrade(place_ts=1, exchange_ts=3, receive_ts=3, trade_id=1, order_id=3, side='ASK', size=0.001, price=102.0, execute='BOOK'),\n",
       " MdUpdate(exchange_ts=4, receive_ts=4, orderbook=OrderbookSnapshotUpdate(exchange_ts=4, receive_ts=4, asks=[(105.0, 1)], bids=[(103.0, 1)]), trade=None),\n",
       " OwnTrade(place_ts=2, exchange_ts=4, receive_ts=4, trade_id=2, order_id=5, side='ASK', size=0.001, price=103.0, execute='BOOK'),\n",
       " MdUpdate(exchange_ts=5, receive_ts=5, orderbook=OrderbookSnapshotUpdate(exchange_ts=5, receive_ts=5, asks=[(106.0, 1)], bids=[(104.0, 1)]), trade=None),\n",
       " OwnTrade(place_ts=3, exchange_ts=5, receive_ts=5, trade_id=3, order_id=7, side='ASK', size=0.001, price=104.0, execute='BOOK'),\n",
       " MdUpdate(exchange_ts=6, receive_ts=6, orderbook=OrderbookSnapshotUpdate(exchange_ts=6, receive_ts=6, asks=[(107.0, 1)], bids=[(105.0, 1)]), trade=None),\n",
       " OwnTrade(place_ts=4, exchange_ts=6, receive_ts=6, trade_id=4, order_id=9, side='ASK', size=0.001, price=105.0, execute='BOOK'),\n",
       " MdUpdate(exchange_ts=7, receive_ts=7, orderbook=OrderbookSnapshotUpdate(exchange_ts=7, receive_ts=7, asks=[(108.0, 1)], bids=[(106.0, 1)]), trade=None),\n",
       " OwnTrade(place_ts=5, exchange_ts=7, receive_ts=7, trade_id=5, order_id=11, side='ASK', size=0.001, price=106.0, execute='BOOK'),\n",
       " MdUpdate(exchange_ts=8, receive_ts=8, orderbook=OrderbookSnapshotUpdate(exchange_ts=8, receive_ts=8, asks=[(109.0, 1)], bids=[(107.0, 1)]), trade=None),\n",
       " OwnTrade(place_ts=6, exchange_ts=8, receive_ts=8, trade_id=6, order_id=13, side='ASK', size=0.001, price=107.0, execute='BOOK'),\n",
       " MdUpdate(exchange_ts=9, receive_ts=9, orderbook=OrderbookSnapshotUpdate(exchange_ts=9, receive_ts=9, asks=[(110.0, 1)], bids=[(108.0, 1)]), trade=None),\n",
       " OwnTrade(place_ts=7, exchange_ts=9, receive_ts=9, trade_id=7, order_id=15, side='ASK', size=0.001, price=108.0, execute='BOOK'),\n",
       " MdUpdate(exchange_ts=10, receive_ts=10, orderbook=OrderbookSnapshotUpdate(exchange_ts=10, receive_ts=10, asks=[(111.0, 1)], bids=[(109.0, 1)]), trade=None),\n",
       " OwnTrade(place_ts=8, exchange_ts=10, receive_ts=10, trade_id=8, order_id=17, side='ASK', size=0.001, price=109.0, execute='BOOK'),\n",
       " MdUpdate(exchange_ts=11, receive_ts=11, orderbook=OrderbookSnapshotUpdate(exchange_ts=11, receive_ts=11, asks=[(112.0, 1)], bids=[(110.0, 1)]), trade=None),\n",
       " OwnTrade(place_ts=9, exchange_ts=11, receive_ts=11, trade_id=9, order_id=19, side='ASK', size=0.001, price=110.0, execute='BOOK'),\n",
       " MdUpdate(exchange_ts=12, receive_ts=12, orderbook=OrderbookSnapshotUpdate(exchange_ts=12, receive_ts=12, asks=[(113.0, 1)], bids=[(111.0, 1)]), trade=None),\n",
       " OwnTrade(place_ts=10, exchange_ts=12, receive_ts=12, trade_id=10, order_id=21, side='ASK', size=0.001, price=111.0, execute='BOOK'),\n",
       " MdUpdate(exchange_ts=13, receive_ts=13, orderbook=OrderbookSnapshotUpdate(exchange_ts=13, receive_ts=13, asks=[(114.0, 1)], bids=[(112.0, 1)]), trade=None),\n",
       " OwnTrade(place_ts=11, exchange_ts=13, receive_ts=13, trade_id=11, order_id=23, side='ASK', size=0.001, price=112.0, execute='BOOK'),\n",
       " MdUpdate(exchange_ts=14, receive_ts=14, orderbook=OrderbookSnapshotUpdate(exchange_ts=14, receive_ts=14, asks=[(115.0, 1)], bids=[(113.0, 1)]), trade=None),\n",
       " OwnTrade(place_ts=12, exchange_ts=14, receive_ts=14, trade_id=12, order_id=25, side='ASK', size=0.001, price=113.0, execute='BOOK'),\n",
       " MdUpdate(exchange_ts=15, receive_ts=15, orderbook=OrderbookSnapshotUpdate(exchange_ts=15, receive_ts=15, asks=[(116.0, 1)], bids=[(114.0, 1)]), trade=None),\n",
       " OwnTrade(place_ts=13, exchange_ts=15, receive_ts=15, trade_id=13, order_id=27, side='ASK', size=0.001, price=114.0, execute='BOOK'),\n",
       " MdUpdate(exchange_ts=16, receive_ts=16, orderbook=OrderbookSnapshotUpdate(exchange_ts=16, receive_ts=16, asks=[(117.0, 1)], bids=[(115.0, 1)]), trade=None),\n",
       " OwnTrade(place_ts=14, exchange_ts=16, receive_ts=16, trade_id=14, order_id=29, side='ASK', size=0.001, price=115.0, execute='BOOK'),\n",
       " MdUpdate(exchange_ts=17, receive_ts=17, orderbook=OrderbookSnapshotUpdate(exchange_ts=17, receive_ts=17, asks=[(118.0, 1)], bids=[(116.0, 1)]), trade=None),\n",
       " OwnTrade(place_ts=15, exchange_ts=17, receive_ts=17, trade_id=15, order_id=31, side='ASK', size=0.001, price=116.0, execute='BOOK'),\n",
       " MdUpdate(exchange_ts=18, receive_ts=18, orderbook=OrderbookSnapshotUpdate(exchange_ts=18, receive_ts=18, asks=[(119.0, 1)], bids=[(117.0, 1)]), trade=None),\n",
       " OwnTrade(place_ts=16, exchange_ts=18, receive_ts=18, trade_id=16, order_id=33, side='ASK', size=0.001, price=117.0, execute='BOOK'),\n",
       " MdUpdate(exchange_ts=19, receive_ts=19, orderbook=OrderbookSnapshotUpdate(exchange_ts=19, receive_ts=19, asks=[(120.0, 1)], bids=[(118.0, 1)]), trade=None),\n",
       " OwnTrade(place_ts=17, exchange_ts=19, receive_ts=19, trade_id=17, order_id=35, side='ASK', size=0.001, price=118.0, execute='BOOK')]"
      ]
     },
     "execution_count": 16,
     "metadata": {},
     "output_type": "execute_result"
    }
   ],
   "source": [
    "updates_list"
   ]
  },
  {
   "cell_type": "code",
   "execution_count": 17,
   "id": "4e3f54f1",
   "metadata": {},
   "outputs": [
    {
     "data": {
      "text/plain": [
       "[Order(place_ts=0, exchange_ts=0, order_id=0, side='BID', size=0.001, price=99.0),\n",
       " Order(place_ts=0, exchange_ts=0, order_id=1, side='ASK', size=0.001, price=101.0),\n",
       " Order(place_ts=1, exchange_ts=1, order_id=2, side='BID', size=0.001, price=100.0),\n",
       " Order(place_ts=1, exchange_ts=1, order_id=3, side='ASK', size=0.001, price=102.0),\n",
       " Order(place_ts=2, exchange_ts=2, order_id=4, side='BID', size=0.001, price=101.0),\n",
       " Order(place_ts=2, exchange_ts=2, order_id=5, side='ASK', size=0.001, price=103.0),\n",
       " Order(place_ts=3, exchange_ts=3, order_id=6, side='BID', size=0.001, price=102.0),\n",
       " Order(place_ts=3, exchange_ts=3, order_id=7, side='ASK', size=0.001, price=104.0),\n",
       " Order(place_ts=4, exchange_ts=4, order_id=8, side='BID', size=0.001, price=103.0),\n",
       " Order(place_ts=4, exchange_ts=4, order_id=9, side='ASK', size=0.001, price=105.0),\n",
       " Order(place_ts=5, exchange_ts=5, order_id=10, side='BID', size=0.001, price=104.0),\n",
       " Order(place_ts=5, exchange_ts=5, order_id=11, side='ASK', size=0.001, price=106.0),\n",
       " Order(place_ts=6, exchange_ts=6, order_id=12, side='BID', size=0.001, price=105.0),\n",
       " Order(place_ts=6, exchange_ts=6, order_id=13, side='ASK', size=0.001, price=107.0),\n",
       " Order(place_ts=7, exchange_ts=7, order_id=14, side='BID', size=0.001, price=106.0),\n",
       " Order(place_ts=7, exchange_ts=7, order_id=15, side='ASK', size=0.001, price=108.0),\n",
       " Order(place_ts=8, exchange_ts=8, order_id=16, side='BID', size=0.001, price=107.0),\n",
       " Order(place_ts=8, exchange_ts=8, order_id=17, side='ASK', size=0.001, price=109.0),\n",
       " Order(place_ts=9, exchange_ts=9, order_id=18, side='BID', size=0.001, price=108.0),\n",
       " Order(place_ts=9, exchange_ts=9, order_id=19, side='ASK', size=0.001, price=110.0),\n",
       " Order(place_ts=10, exchange_ts=10, order_id=20, side='BID', size=0.001, price=109.0),\n",
       " Order(place_ts=10, exchange_ts=10, order_id=21, side='ASK', size=0.001, price=111.0),\n",
       " Order(place_ts=11, exchange_ts=11, order_id=22, side='BID', size=0.001, price=110.0),\n",
       " Order(place_ts=11, exchange_ts=11, order_id=23, side='ASK', size=0.001, price=112.0),\n",
       " Order(place_ts=12, exchange_ts=12, order_id=24, side='BID', size=0.001, price=111.0),\n",
       " Order(place_ts=12, exchange_ts=12, order_id=25, side='ASK', size=0.001, price=113.0),\n",
       " Order(place_ts=13, exchange_ts=13, order_id=26, side='BID', size=0.001, price=112.0),\n",
       " Order(place_ts=13, exchange_ts=13, order_id=27, side='ASK', size=0.001, price=114.0),\n",
       " Order(place_ts=14, exchange_ts=14, order_id=28, side='BID', size=0.001, price=113.0),\n",
       " Order(place_ts=14, exchange_ts=14, order_id=29, side='ASK', size=0.001, price=115.0),\n",
       " Order(place_ts=15, exchange_ts=15, order_id=30, side='BID', size=0.001, price=114.0),\n",
       " Order(place_ts=15, exchange_ts=15, order_id=31, side='ASK', size=0.001, price=116.0),\n",
       " Order(place_ts=16, exchange_ts=16, order_id=32, side='BID', size=0.001, price=115.0),\n",
       " Order(place_ts=16, exchange_ts=16, order_id=33, side='ASK', size=0.001, price=117.0),\n",
       " Order(place_ts=17, exchange_ts=17, order_id=34, side='BID', size=0.001, price=116.0),\n",
       " Order(place_ts=17, exchange_ts=17, order_id=35, side='ASK', size=0.001, price=118.0),\n",
       " Order(place_ts=18, exchange_ts=18, order_id=36, side='BID', size=0.001, price=117.0),\n",
       " Order(place_ts=18, exchange_ts=18, order_id=37, side='ASK', size=0.001, price=119.0),\n",
       " Order(place_ts=19, exchange_ts=19, order_id=38, side='BID', size=0.001, price=118.0),\n",
       " Order(place_ts=19, exchange_ts=19, order_id=39, side='ASK', size=0.001, price=120.0)]"
      ]
     },
     "execution_count": 17,
     "metadata": {},
     "output_type": "execute_result"
    }
   ],
   "source": [
    "all_orders"
   ]
  },
  {
   "cell_type": "code",
   "execution_count": 18,
   "id": "c73fb7c0",
   "metadata": {},
   "outputs": [
    {
     "data": {
      "text/plain": [
       "{0: Order(place_ts=0, exchange_ts=0, order_id=0, side='BID', size=0.001, price=99.0),\n",
       " 2: Order(place_ts=1, exchange_ts=1, order_id=2, side='BID', size=0.001, price=100.0),\n",
       " 4: Order(place_ts=2, exchange_ts=2, order_id=4, side='BID', size=0.001, price=101.0),\n",
       " 6: Order(place_ts=3, exchange_ts=3, order_id=6, side='BID', size=0.001, price=102.0),\n",
       " 8: Order(place_ts=4, exchange_ts=4, order_id=8, side='BID', size=0.001, price=103.0),\n",
       " 10: Order(place_ts=5, exchange_ts=5, order_id=10, side='BID', size=0.001, price=104.0),\n",
       " 12: Order(place_ts=6, exchange_ts=6, order_id=12, side='BID', size=0.001, price=105.0),\n",
       " 14: Order(place_ts=7, exchange_ts=7, order_id=14, side='BID', size=0.001, price=106.0),\n",
       " 16: Order(place_ts=8, exchange_ts=8, order_id=16, side='BID', size=0.001, price=107.0),\n",
       " 18: Order(place_ts=9, exchange_ts=9, order_id=18, side='BID', size=0.001, price=108.0),\n",
       " 20: Order(place_ts=10, exchange_ts=10, order_id=20, side='BID', size=0.001, price=109.0),\n",
       " 22: Order(place_ts=11, exchange_ts=11, order_id=22, side='BID', size=0.001, price=110.0),\n",
       " 24: Order(place_ts=12, exchange_ts=12, order_id=24, side='BID', size=0.001, price=111.0),\n",
       " 26: Order(place_ts=13, exchange_ts=13, order_id=26, side='BID', size=0.001, price=112.0),\n",
       " 28: Order(place_ts=14, exchange_ts=14, order_id=28, side='BID', size=0.001, price=113.0),\n",
       " 30: Order(place_ts=15, exchange_ts=15, order_id=30, side='BID', size=0.001, price=114.0),\n",
       " 32: Order(place_ts=16, exchange_ts=16, order_id=32, side='BID', size=0.001, price=115.0),\n",
       " 34: Order(place_ts=17, exchange_ts=17, order_id=34, side='BID', size=0.001, price=116.0),\n",
       " 36: Order(place_ts=18, exchange_ts=18, order_id=36, side='BID', size=0.001, price=117.0),\n",
       " 37: Order(place_ts=18, exchange_ts=18, order_id=37, side='ASK', size=0.001, price=119.0),\n",
       " 38: Order(place_ts=19, exchange_ts=19, order_id=38, side='BID', size=0.001, price=118.0),\n",
       " 39: Order(place_ts=19, exchange_ts=19, order_id=39, side='ASK', size=0.001, price=120.0)}"
      ]
     },
     "execution_count": 18,
     "metadata": {},
     "output_type": "execute_result"
    }
   ],
   "source": [
    "sim.ready_to_execute_orders"
   ]
  }
 ],
 "metadata": {
  "kernelspec": {
   "display_name": "Python 3 (ipykernel)",
   "language": "python",
   "name": "python3"
  },
  "language_info": {
   "codemirror_mode": {
    "name": "ipython",
    "version": 3
   },
   "file_extension": ".py",
   "mimetype": "text/x-python",
   "name": "python",
   "nbconvert_exporter": "python",
   "pygments_lexer": "ipython3",
   "version": "3.9.7"
  },
  "toc": {
   "base_numbering": 1,
   "nav_menu": {},
   "number_sections": true,
   "sideBar": true,
   "skip_h1_title": false,
   "title_cell": "Table of Contents",
   "title_sidebar": "Contents",
   "toc_cell": false,
   "toc_position": {},
   "toc_section_display": true,
   "toc_window_display": false
  }
 },
 "nbformat": 4,
 "nbformat_minor": 5
}
