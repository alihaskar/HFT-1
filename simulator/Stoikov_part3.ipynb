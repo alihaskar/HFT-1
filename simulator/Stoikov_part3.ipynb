{
 "cells": [
  {
   "cell_type": "code",
   "execution_count": 1,
   "id": "3a2184ed",
   "metadata": {},
   "outputs": [],
   "source": [
    "from simulator import Sim\n",
    "from base_strategy import BaseStrategy\n",
    "\n",
    "from stoikov_strategy import StoikovStrategy, FutureStrategy\n",
    "\n",
    "from get_info import get_pnl\n",
    "from load_data import load_md_from_file\n",
    "\n",
    "\n",
    "import pandas as pd\n",
    "import numpy as np\n",
    "from matplotlib import pyplot as plt\n",
    "\n",
    "PATH_TO_FILE = '../md/btcusdt:Binance:LinearPerpetual/'\n",
    "T = pd.Timedelta(2, 'h').delta"
   ]
  },
  {
   "cell_type": "code",
   "execution_count": 2,
   "id": "2104107e",
   "metadata": {},
   "outputs": [],
   "source": [
    "from load_data import load_before_time"
   ]
  },
  {
   "cell_type": "code",
   "execution_count": 3,
   "id": "b3b4d72d",
   "metadata": {},
   "outputs": [],
   "source": [
    "lobs = load_before_time(PATH_TO_FILE + 'lobs.csv', T)\n",
    "\n",
    "names = lobs.columns.values\n",
    "ln = len('btcusdt:Binance:LinearPerpetual_')\n",
    "renamer = { name:name[ln:] for name in names[2:]}\n",
    "renamer[' exchange_ts'] = 'exchange_ts'\n",
    "lobs.rename(renamer, axis=1, inplace=True)"
   ]
  },
  {
   "cell_type": "code",
   "execution_count": 4,
   "id": "dca63488",
   "metadata": {},
   "outputs": [],
   "source": [
    "lobs = lobs[['receive_ts', 'ask_price_0', 'ask_vol_0', 'bid_price_0', 'bid_vol_0']]"
   ]
  },
  {
   "cell_type": "code",
   "execution_count": 5,
   "id": "82377872",
   "metadata": {},
   "outputs": [],
   "source": [
    "lobs = lobs.rename(mapper={col:col[:-2] for col in lobs.columns if col[-1] == '0'}, axis=1)"
   ]
  },
  {
   "cell_type": "code",
   "execution_count": 6,
   "id": "bc7a0eff",
   "metadata": {},
   "outputs": [
    {
     "data": {
      "text/html": [
       "<div>\n",
       "<style scoped>\n",
       "    .dataframe tbody tr th:only-of-type {\n",
       "        vertical-align: middle;\n",
       "    }\n",
       "\n",
       "    .dataframe tbody tr th {\n",
       "        vertical-align: top;\n",
       "    }\n",
       "\n",
       "    .dataframe thead th {\n",
       "        text-align: right;\n",
       "    }\n",
       "</style>\n",
       "<table border=\"1\" class=\"dataframe\">\n",
       "  <thead>\n",
       "    <tr style=\"text-align: right;\">\n",
       "      <th></th>\n",
       "      <th>receive_ts</th>\n",
       "      <th>ask_price</th>\n",
       "      <th>ask_vol</th>\n",
       "      <th>bid_price</th>\n",
       "      <th>bid_vol</th>\n",
       "    </tr>\n",
       "  </thead>\n",
       "  <tbody>\n",
       "    <tr>\n",
       "      <th>0</th>\n",
       "      <td>1655942402250125991</td>\n",
       "      <td>19977.5</td>\n",
       "      <td>0.079</td>\n",
       "      <td>19977.4</td>\n",
       "      <td>12.381</td>\n",
       "    </tr>\n",
       "    <tr>\n",
       "      <th>1</th>\n",
       "      <td>1655942402657844605</td>\n",
       "      <td>19977.5</td>\n",
       "      <td>0.078</td>\n",
       "      <td>19977.4</td>\n",
       "      <td>12.381</td>\n",
       "    </tr>\n",
       "    <tr>\n",
       "      <th>2</th>\n",
       "      <td>1655942403346968722</td>\n",
       "      <td>19977.5</td>\n",
       "      <td>0.079</td>\n",
       "      <td>19977.4</td>\n",
       "      <td>12.381</td>\n",
       "    </tr>\n",
       "    <tr>\n",
       "      <th>3</th>\n",
       "      <td>1655942404080791047</td>\n",
       "      <td>19977.5</td>\n",
       "      <td>0.079</td>\n",
       "      <td>19977.4</td>\n",
       "      <td>12.381</td>\n",
       "    </tr>\n",
       "    <tr>\n",
       "      <th>4</th>\n",
       "      <td>1655942404452706766</td>\n",
       "      <td>19977.5</td>\n",
       "      <td>0.079</td>\n",
       "      <td>19977.4</td>\n",
       "      <td>12.381</td>\n",
       "    </tr>\n",
       "    <tr>\n",
       "      <th>...</th>\n",
       "      <td>...</td>\n",
       "      <td>...</td>\n",
       "      <td>...</td>\n",
       "      <td>...</td>\n",
       "      <td>...</td>\n",
       "    </tr>\n",
       "    <tr>\n",
       "      <th>206519</th>\n",
       "      <td>1655949602089731797</td>\n",
       "      <td>20367.0</td>\n",
       "      <td>2.467</td>\n",
       "      <td>20366.9</td>\n",
       "      <td>2.101</td>\n",
       "    </tr>\n",
       "    <tr>\n",
       "      <th>206520</th>\n",
       "      <td>1655949602122549162</td>\n",
       "      <td>20367.0</td>\n",
       "      <td>1.459</td>\n",
       "      <td>20366.9</td>\n",
       "      <td>2.391</td>\n",
       "    </tr>\n",
       "    <tr>\n",
       "      <th>206521</th>\n",
       "      <td>1655949602157709637</td>\n",
       "      <td>20367.0</td>\n",
       "      <td>1.383</td>\n",
       "      <td>20366.9</td>\n",
       "      <td>3.089</td>\n",
       "    </tr>\n",
       "    <tr>\n",
       "      <th>206522</th>\n",
       "      <td>1655949602189840336</td>\n",
       "      <td>20367.0</td>\n",
       "      <td>1.486</td>\n",
       "      <td>20366.9</td>\n",
       "      <td>2.442</td>\n",
       "    </tr>\n",
       "    <tr>\n",
       "      <th>206523</th>\n",
       "      <td>1655949602221638590</td>\n",
       "      <td>20367.0</td>\n",
       "      <td>1.486</td>\n",
       "      <td>20366.9</td>\n",
       "      <td>2.403</td>\n",
       "    </tr>\n",
       "  </tbody>\n",
       "</table>\n",
       "<p>206524 rows × 5 columns</p>\n",
       "</div>"
      ],
      "text/plain": [
       "                 receive_ts  ask_price  ask_vol  bid_price  bid_vol\n",
       "0       1655942402250125991    19977.5    0.079    19977.4   12.381\n",
       "1       1655942402657844605    19977.5    0.078    19977.4   12.381\n",
       "2       1655942403346968722    19977.5    0.079    19977.4   12.381\n",
       "3       1655942404080791047    19977.5    0.079    19977.4   12.381\n",
       "4       1655942404452706766    19977.5    0.079    19977.4   12.381\n",
       "...                     ...        ...      ...        ...      ...\n",
       "206519  1655949602089731797    20367.0    2.467    20366.9    2.101\n",
       "206520  1655949602122549162    20367.0    1.459    20366.9    2.391\n",
       "206521  1655949602157709637    20367.0    1.383    20366.9    3.089\n",
       "206522  1655949602189840336    20367.0    1.486    20366.9    2.442\n",
       "206523  1655949602221638590    20367.0    1.486    20366.9    2.403\n",
       "\n",
       "[206524 rows x 5 columns]"
      ]
     },
     "execution_count": 6,
     "metadata": {},
     "output_type": "execute_result"
    }
   ],
   "source": [
    "lobs"
   ]
  },
  {
   "cell_type": "code",
   "execution_count": 7,
   "id": "48b43096",
   "metadata": {},
   "outputs": [],
   "source": [
    "lobs['mid_price'] = 0.5 * (lobs['ask_price'] + lobs['bid_price'])\n",
    "lobs['spread'] = (lobs['ask_price'] - lobs['bid_price'])\n",
    "lobs['imbalance'] = lobs['bid_vol'] / (lobs['bid_vol'] + lobs['ask_vol']) "
   ]
  },
  {
   "cell_type": "code",
   "execution_count": 8,
   "id": "37be5825",
   "metadata": {},
   "outputs": [],
   "source": [
    "I = lobs['imbalance'].values"
   ]
  },
  {
   "cell_type": "code",
   "execution_count": 9,
   "id": "0194c6d5",
   "metadata": {},
   "outputs": [],
   "source": [
    "n = 21\n",
    "I_unique = list(range(0, n))\n",
    "\n",
    "I = (I * n).astype(int)"
   ]
  },
  {
   "cell_type": "code",
   "execution_count": 10,
   "id": "8803abad",
   "metadata": {},
   "outputs": [
    {
     "data": {
      "text/plain": [
       "[0, 1, 2, 3, 4, 5, 6, 7, 8, 9, 10, 11, 12, 13, 14, 15, 16, 17, 18, 19, 20]"
      ]
     },
     "execution_count": 10,
     "metadata": {},
     "output_type": "execute_result"
    }
   ],
   "source": [
    "I_unique"
   ]
  },
  {
   "cell_type": "code",
   "execution_count": 11,
   "id": "23fcec75",
   "metadata": {},
   "outputs": [
    {
     "data": {
      "text/plain": [
       "array([20, 20, 20, ..., 14, 13, 12])"
      ]
     },
     "execution_count": 11,
     "metadata": {},
     "output_type": "execute_result"
    }
   ],
   "source": [
    "I"
   ]
  },
  {
   "cell_type": "code",
   "execution_count": 12,
   "id": "f7a036d0",
   "metadata": {},
   "outputs": [],
   "source": [
    "spread = np.round_(lobs['spread'].values, 4)\n",
    "max_spread = np.quantile(spread, 0.99)\n",
    "min_spread = np.min(spread)\n",
    "\n",
    "S = (np.clip(spread, 0, max_spread) / min_spread).astype(int)\n",
    "\n",
    "S_unique = sorted(set(S))"
   ]
  },
  {
   "cell_type": "code",
   "execution_count": 13,
   "id": "336484cd",
   "metadata": {},
   "outputs": [
    {
     "name": "stdout",
     "output_type": "stream",
     "text": [
      "1  2  4  5  6  8  9  10  11  13  15  16  17  18\n"
     ]
    }
   ],
   "source": [
    "print(*sorted(set(S)), sep='  ')"
   ]
  },
  {
   "cell_type": "code",
   "execution_count": 14,
   "id": "f3dde711",
   "metadata": {},
   "outputs": [],
   "source": [
    "dM = np.diff(lobs['mid_price'].values)\n",
    "dM = np.round_(dM, 2)\n",
    "\n",
    "alpha = 0.01\n",
    "q1 = np.quantile(dM[dM != 0], alpha)\n",
    "q2 = np.quantile(dM[dM != 0], 1 - alpha)\n",
    "\n",
    "q = max(abs(q1), abs(q2))\n",
    "q1, q2 = -q, q\n",
    "\n",
    "dM = np.clip(dM, q1, q2)"
   ]
  },
  {
   "cell_type": "code",
   "execution_count": 15,
   "id": "5fce7cc7",
   "metadata": {},
   "outputs": [
    {
     "name": "stdout",
     "output_type": "stream",
     "text": [
      "-3.8  -3.75  -3.7  -3.65  -3.6  -3.55  -3.5  -3.45  -3.4  -3.35  -3.3  -3.25  -3.2  -3.15  -3.1  -3.05  -3.0  -2.95  -2.9  -2.85  -2.8  -2.75  -2.7  -2.65  -2.6  -2.55  -2.5  -2.45  -2.4  -2.35  -2.3  -2.25  -2.2  -2.15  -2.1  -2.05  -2.0  -1.95  -1.9  -1.85  -1.8  -1.75  -1.7  -1.65  -1.6  -1.55  -1.5  -1.45  -1.4  -1.35  -1.3  -1.25  -1.2  -1.15  -1.1  -1.05  -1.0  -0.95  -0.9  -0.85  -0.8  -0.75  -0.7  -0.65  -0.6  -0.55  -0.5  -0.45  -0.4  -0.35  -0.3  -0.25  -0.2  -0.15  -0.1  -0.05  0.0  0.05  0.1  0.15  0.2  0.25  0.3  0.35  0.4  0.45  0.5  0.55  0.6  0.65  0.7  0.75  0.8  0.85  0.9  0.95  1.0  1.05  1.1  1.15  1.2  1.25  1.3  1.35  1.4  1.45  1.5  1.55  1.6  1.65  1.7  1.75  1.8  1.85  1.9  1.95  2.0  2.05  2.1  2.15  2.2  2.25  2.3  2.35  2.4  2.45  2.5  2.55  2.6  2.65  2.7  2.75  2.8  2.85  2.9  2.95  3.0  3.05  3.1  3.15  3.2  3.25  3.3  3.35  3.4  3.45  3.5  3.55  3.6  3.65  3.7  3.75  3.8\n"
     ]
    }
   ],
   "source": [
    "print(*sorted(set(dM)), sep='  ')"
   ]
  },
  {
   "cell_type": "code",
   "execution_count": 16,
   "id": "3f991561",
   "metadata": {},
   "outputs": [],
   "source": [
    "k = round((q2 - q1) / (0.05)) + 1"
   ]
  },
  {
   "cell_type": "code",
   "execution_count": 17,
   "id": "8e90e3bf",
   "metadata": {},
   "outputs": [],
   "source": [
    "dM_unique = np.round(np.linspace(q1, q2, k), 2)"
   ]
  },
  {
   "cell_type": "code",
   "execution_count": 18,
   "id": "76bf40dd",
   "metadata": {},
   "outputs": [
    {
     "data": {
      "text/plain": [
       "array([-3.8 , -3.75, -3.7 , -3.65, -3.6 , -3.55, -3.5 , -3.45, -3.4 ,\n",
       "       -3.35, -3.3 , -3.25, -3.2 , -3.15, -3.1 , -3.05, -3.  , -2.95,\n",
       "       -2.9 , -2.85, -2.8 , -2.75, -2.7 , -2.65, -2.6 , -2.55, -2.5 ,\n",
       "       -2.45, -2.4 , -2.35, -2.3 , -2.25, -2.2 , -2.15, -2.1 , -2.05,\n",
       "       -2.  , -1.95, -1.9 , -1.85, -1.8 , -1.75, -1.7 , -1.65, -1.6 ,\n",
       "       -1.55, -1.5 , -1.45, -1.4 , -1.35, -1.3 , -1.25, -1.2 , -1.15,\n",
       "       -1.1 , -1.05, -1.  , -0.95, -0.9 , -0.85, -0.8 , -0.75, -0.7 ,\n",
       "       -0.65, -0.6 , -0.55, -0.5 , -0.45, -0.4 , -0.35, -0.3 , -0.25,\n",
       "       -0.2 , -0.15, -0.1 , -0.05,  0.  ,  0.05,  0.1 ,  0.15,  0.2 ,\n",
       "        0.25,  0.3 ,  0.35,  0.4 ,  0.45,  0.5 ,  0.55,  0.6 ,  0.65,\n",
       "        0.7 ,  0.75,  0.8 ,  0.85,  0.9 ,  0.95,  1.  ,  1.05,  1.1 ,\n",
       "        1.15,  1.2 ,  1.25,  1.3 ,  1.35,  1.4 ,  1.45,  1.5 ,  1.55,\n",
       "        1.6 ,  1.65,  1.7 ,  1.75,  1.8 ,  1.85,  1.9 ,  1.95,  2.  ,\n",
       "        2.05,  2.1 ,  2.15,  2.2 ,  2.25,  2.3 ,  2.35,  2.4 ,  2.45,\n",
       "        2.5 ,  2.55,  2.6 ,  2.65,  2.7 ,  2.75,  2.8 ,  2.85,  2.9 ,\n",
       "        2.95,  3.  ,  3.05,  3.1 ,  3.15,  3.2 ,  3.25,  3.3 ,  3.35,\n",
       "        3.4 ,  3.45,  3.5 ,  3.55,  3.6 ,  3.65,  3.7 ,  3.75,  3.8 ])"
      ]
     },
     "execution_count": 18,
     "metadata": {},
     "output_type": "execute_result"
    }
   ],
   "source": [
    "dM_unique"
   ]
  },
  {
   "cell_type": "code",
   "execution_count": 19,
   "id": "8249e7a3",
   "metadata": {},
   "outputs": [
    {
     "data": {
      "image/png": "[encoded data removed]",
      "text/plain": [
       "<Figure size 640x480 with 1 Axes>"
      ]
     },
     "metadata": {},
     "output_type": "display_data"
    }
   ],
   "source": [
    "plt.title(\"imbalance\")\n",
    "plt.hist(I)\n",
    "plt.grid()\n",
    "plt.show()"
   ]
  },
  {
   "cell_type": "code",
   "execution_count": 20,
   "id": "09dcb1a5",
   "metadata": {},
   "outputs": [
    {
     "data": {
      "image/png": "[encoded data removed]",
      "text/plain": [
       "<Figure size 640x480 with 1 Axes>"
      ]
     },
     "metadata": {},
     "output_type": "display_data"
    }
   ],
   "source": [
    "plt.title(\"spread\")\n",
    "plt.hist(S, bins=20)\n",
    "plt.grid()\n",
    "plt.show()"
   ]
  },
  {
   "cell_type": "code",
   "execution_count": 21,
   "id": "f84f0e63",
   "metadata": {},
   "outputs": [
    {
     "data": {
      "image/png": "[encoded data removed]",
      "text/plain": [
       "<Figure size 640x480 with 1 Axes>"
      ]
     },
     "metadata": {},
     "output_type": "display_data"
    }
   ],
   "source": [
    "plt.title(\"non zero delta M\")\n",
    "plt.hist(dM[dM != 0], bins=20)\n",
    "plt.grid()\n",
    "plt.show()"
   ]
  },
  {
   "cell_type": "code",
   "execution_count": 22,
   "id": "286919be",
   "metadata": {},
   "outputs": [],
   "source": [
    "n = len(I_unique)\n",
    "m = len(S_unique)\n",
    "\n",
    "k = len(dM_unique)"
   ]
  },
  {
   "cell_type": "code",
   "execution_count": 23,
   "id": "bea7345f",
   "metadata": {},
   "outputs": [
    {
     "data": {
      "text/plain": [
       "(21, 14, 153)"
      ]
     },
     "execution_count": 23,
     "metadata": {},
     "output_type": "execute_result"
    }
   ],
   "source": [
    "n, m, k"
   ]
  },
  {
   "cell_type": "code",
   "execution_count": 24,
   "id": "22f7f78c",
   "metadata": {},
   "outputs": [],
   "source": [
    "a = np.ones((n * m, n * m))"
   ]
  },
  {
   "cell_type": "code",
   "execution_count": 25,
   "id": "76626a4e",
   "metadata": {},
   "outputs": [],
   "source": [
    "I_map = dict( zip( I_unique, range(len(I_unique)) ) )\n",
    "\n",
    "S_map = dict( zip( S_unique, range(len(S_unique)) ) )\n",
    "\n",
    "dM_map = dict( zip( dM_unique, range(len(dM_unique)) ) )"
   ]
  },
  {
   "cell_type": "code",
   "execution_count": 46,
   "id": "59706b14",
   "metadata": {},
   "outputs": [],
   "source": [
    "R = np.zeros((n * m , k))\n",
    "T = np.zeros((n * m , n * m))\n",
    "Q = np.zeros((n * m , n * m))\n",
    "\n",
    "cont = np.zeros((n * m, 1))"
   ]
  },
  {
   "cell_type": "code",
   "execution_count": 47,
   "id": "c9f7bde4",
   "metadata": {},
   "outputs": [],
   "source": [
    "N = len(dM)"
   ]
  },
  {
   "cell_type": "code",
   "execution_count": 48,
   "id": "5aa18944",
   "metadata": {},
   "outputs": [],
   "source": [
    "for idx in range(N):\n",
    "    \n",
    "    i, i_ = I[idx], I[idx + 1]\n",
    "    s, s_ = S[idx], S[idx + 1]\n",
    "    dm = dM[idx]\n",
    "    \n",
    "    x = I_map[i] * m +  S_map[s]\n",
    "    y = I_map[i_] * m + S_map[s_]\n",
    "    cont[x] += 1\n",
    "    j = dM_map[dm]\n",
    "    if dm != 0.0:\n",
    "        R[x, j] += 1\n",
    "        T[x, y] += 1\n",
    "    else:\n",
    "        Q[x, y] += 1\n",
    "\n",
    "    #Symmetrize the data\n",
    "    i, i_ = n - 1 - I[idx], n - 1 - I[idx + 1]\n",
    "    dm = -dM[idx]\n",
    "    \n",
    "    x = I_map[i] * m +  S_map[s]\n",
    "    y = I_map[i_] * m + S_map[s_]\n",
    "    cont[x] += 1\n",
    "    j = dM_map[dm]\n",
    "    if dm != 0.0:\n",
    "        R[x, j] += 1\n",
    "        T[x, y] += 1\n",
    "    else:\n",
    "        Q[x, y] += 1"
   ]
  },
  {
   "cell_type": "code",
   "execution_count": 49,
   "id": "04d38fe0",
   "metadata": {},
   "outputs": [],
   "source": [
    "R = R / (cont + 1e-10)\n",
    "\n",
    "Q = Q / (cont + 1e-10)\n",
    "\n",
    "T = T / (cont + 1e-10)"
   ]
  },
  {
   "cell_type": "markdown",
   "id": "7fa709b3",
   "metadata": {},
   "source": [
    "$Q + T$ должна быть стохастической матрицей. Сумма по столбцам иногда даёт ноль, это происходит для тех x, которые ни разу не встречались."
   ]
  },
  {
   "cell_type": "code",
   "execution_count": 50,
   "id": "c28d083e",
   "metadata": {},
   "outputs": [],
   "source": [
    "arr = np.sum(Q + T, axis=1)"
   ]
  },
  {
   "cell_type": "code",
   "execution_count": 51,
   "id": "ca2bdae1",
   "metadata": {},
   "outputs": [
    {
     "data": {
      "text/plain": [
       "{1.0}"
      ]
     },
     "execution_count": 51,
     "metadata": {},
     "output_type": "execute_result"
    }
   ],
   "source": [
    "set(np.round(arr, 4))"
   ]
  },
  {
   "cell_type": "code",
   "execution_count": 52,
   "id": "2e94d544",
   "metadata": {},
   "outputs": [],
   "source": [
    "Q_inv = np.linalg.inv(np.eye(n * m) - Q)"
   ]
  },
  {
   "cell_type": "code",
   "execution_count": 53,
   "id": "af6e041e",
   "metadata": {},
   "outputs": [],
   "source": [
    "G = Q_inv @ (R @ dM_unique)"
   ]
  },
  {
   "cell_type": "code",
   "execution_count": 54,
   "id": "45237e6b",
   "metadata": {},
   "outputs": [],
   "source": [
    "B = Q_inv @ T"
   ]
  },
  {
   "cell_type": "code",
   "execution_count": 55,
   "id": "80d6292e",
   "metadata": {},
   "outputs": [],
   "source": [
    "n_iter = 100"
   ]
  },
  {
   "cell_type": "code",
   "execution_count": 56,
   "id": "173685e1",
   "metadata": {},
   "outputs": [
    {
     "name": "stdout",
     "output_type": "stream",
     "text": [
      "2.255064727460277\n",
      "0.895771957793771\n",
      "0.3393989525330416\n",
      "0.12624578922253252\n",
      "0.04683251301260214\n",
      "0.01736387851963297\n",
      "0.006436943167196324\n",
      "0.0023861639344966313\n",
      "0.000884542780727236\n",
      "0.00032789672673082894\n",
      "0.00012155008204669131\n",
      "4.5058156993735945e-05\n",
      "1.6702888870630986e-05\n",
      "6.1916979195740665e-06\n",
      "2.295239071220166e-06\n",
      "8.508364689032853e-07\n",
      "3.1540187076036563e-07\n",
      "1.1691828434515375e-07\n",
      "4.334116701713015e-08\n",
      "1.6066407301061526e-08\n",
      "5.955756591805456e-09\n",
      "2.207776660066264e-09\n",
      "8.184143682777875e-10\n",
      "3.033830859012495e-10\n",
      "1.124628656772175e-10\n",
      "4.168974610870634e-11\n",
      "1.5454308037530853e-11\n",
      "5.728640341183728e-12\n",
      "2.123671283534762e-12\n",
      "7.871487377094173e-13\n",
      "2.919811603011685e-13\n",
      "1.0805133067444379e-13\n",
      "4.028727470147267e-14\n",
      "1.4945749670437927e-14\n",
      "5.900093770701101e-15\n",
      "2.6649151312618923e-15\n",
      "1.8659986528212405e-15\n",
      "2.236568962669116e-15\n",
      "2.0244819389381433e-15\n",
      "1.9215450131023856e-15\n",
      "1.6702317023132179e-15\n",
      "1.750311630263906e-15\n",
      "1.7226424698042253e-15\n",
      "1.6778522151821474e-15\n",
      "1.5691031338738782e-15\n",
      "1.5298879375982257e-15\n",
      "1.356651597402634e-15\n",
      "1.5495259401918175e-15\n",
      "1.6033907002956892e-15\n",
      "1.7313049598773144e-15\n",
      "1.927785077449387e-15\n",
      "2.18585097249313e-15\n",
      "2.065469810472946e-15\n",
      "1.9051376924826443e-15\n",
      "2.0310005942303774e-15\n",
      "1.8614368403710335e-15\n",
      "2.0628799780254477e-15\n",
      "2.0276158294789333e-15\n",
      "1.851601368746808e-15\n",
      "1.4895687138090195e-15\n",
      "1.7193738543810306e-15\n",
      "1.7941287589652346e-15\n",
      "1.7958273157762434e-15\n",
      "1.7757221609266396e-15\n",
      "1.5611965480023883e-15\n",
      "1.5531040959114096e-15\n",
      "1.466994684271209e-15\n",
      "1.4867651426434958e-15\n",
      "1.628876036717824e-15\n",
      "1.6031872139993477e-15\n",
      "1.6022456226931683e-15\n",
      "1.359816648843777e-15\n",
      "1.649096853140349e-15\n",
      "1.6836881023403128e-15\n",
      "1.6054360527734113e-15\n",
      "1.6538386174056802e-15\n",
      "1.6360154188915506e-15\n",
      "1.7870874434880444e-15\n",
      "1.895059018221987e-15\n",
      "2.0025130066209562e-15\n",
      "1.8191913563832298e-15\n",
      "1.5464711846199661e-15\n",
      "1.3778032999494074e-15\n",
      "1.2355741775075142e-15\n",
      "1.4169813788130286e-15\n",
      "1.5505660637230641e-15\n",
      "1.6013142210283127e-15\n",
      "1.3879344605081332e-15\n",
      "1.2017701912694255e-15\n",
      "9.763997493724766e-16\n",
      "1.0983017195658088e-15\n",
      "1.3445985231815534e-15\n",
      "1.5092353030691319e-15\n",
      "1.5916869744348746e-15\n",
      "1.4609312556531694e-15\n",
      "1.4428222740310907e-15\n",
      "1.612146760765197e-15\n",
      "1.4074666623663216e-15\n",
      "1.6463593308646027e-15\n",
      "1.709666039757911e-15\n"
     ]
    }
   ],
   "source": [
    "G_star = G\n",
    "for i in range(n_iter):\n",
    "    G_star_new = G + B @ G_star\n",
    "    err = np.linalg.norm(G_star_new - G_star)\n",
    "    G_star = G_star_new\n",
    "    print(err)"
   ]
  },
  {
   "cell_type": "markdown",
   "id": "1141a248",
   "metadata": {},
   "source": [
    "Видно, что ряд быстро сходится"
   ]
  },
  {
   "cell_type": "code",
   "execution_count": 57,
   "id": "ff493df7",
   "metadata": {},
   "outputs": [
    {
     "data": {
      "text/plain": [
       "array([-1.18014901e+00, -9.47420089e-01, -1.12357140e+00, -1.12997593e+00,\n",
       "       -1.11627330e+00, -9.58705400e-01, -8.75704069e-01, -1.15669099e+00,\n",
       "       -9.44047092e-01, -1.02604472e+00, -7.87898525e-01, -9.07470856e-01,\n",
       "       -1.03306439e+00, -8.34264714e-01, -9.04822032e-01, -6.35298215e-01,\n",
       "       -5.06664549e-01, -7.46502388e-01, -7.89100456e-01, -6.26617517e-01,\n",
       "       -6.62113528e-01, -6.27302751e-01, -7.96854394e-01, -7.52322114e-01,\n",
       "       -6.83502077e-01, -5.65462945e-01, -1.02170891e-01, -5.31160457e-01,\n",
       "       -7.43870375e-01, -5.17851868e-01, -4.81754615e-01, -4.17784593e-01,\n",
       "       -3.99324126e-01, -3.70939694e-01, -6.36822557e-01, -3.52546892e-01,\n",
       "       -5.31538973e-01, -3.78813839e-01, -4.76442256e-01, -1.03973645e+00,\n",
       "       -5.57518329e-01, -3.74444141e-01, -6.29094742e-01, -2.67311455e-01,\n",
       "       -3.18767736e-01, -3.38529778e-01, -1.66890769e-01, -1.97066001e-01,\n",
       "       -3.28178295e-01, -3.25123339e-01, -4.97344298e-01, -1.09385101e-01,\n",
       "       -6.44515132e-01, -6.30594507e-01, -5.91559157e-01, -2.98738336e-01,\n",
       "       -5.43094746e-01, -3.06618550e-01, -2.81353217e-01, -3.65675720e-01,\n",
       "       -3.97155478e-01, -1.74745748e-01,  4.13768686e-02, -4.63041928e-01,\n",
       "       -1.15678358e-01, -2.64192863e-01, -3.18865493e-01, -7.99820980e-01,\n",
       "       -3.88512168e-01, -5.88952323e-02, -4.52358883e-01, -1.57706735e-01,\n",
       "       -1.58673816e-01, -3.32990676e-01, -3.64872712e-01, -4.00151015e-01,\n",
       "       -2.02548753e-01, -5.51915245e-01, -6.37769419e-02, -2.48526429e-01,\n",
       "       -3.18242273e-01, -7.75068097e-01,  7.52540467e-02, -4.25936910e-01,\n",
       "       -3.45697636e-01, -1.16983550e-01, -6.22095030e-02, -1.02383755e-01,\n",
       "       -1.47464863e-01,  9.09162718e-04,  2.81534358e-01,  8.29821578e-02,\n",
       "        4.29266068e-02, -9.88930697e-02, -5.93922531e-01, -1.05541463e-01,\n",
       "       -3.53470652e-01, -3.51463381e-01, -2.40981588e-01, -1.93737056e-01,\n",
       "       -2.96955381e-01, -2.28347714e-01, -2.04270788e-01, -7.34054163e-02,\n",
       "        2.48885413e-01,  6.18466093e-02,  7.82348620e-02, -3.88947060e-01,\n",
       "       -8.02762458e-02,  3.90637550e-02,  2.52995587e-02, -3.76140228e-01,\n",
       "       -1.72710450e-01,  1.11489068e-02,  2.08086344e-01, -1.51708578e-01,\n",
       "       -1.75512477e-01, -1.39981355e-01,  5.79538337e-02, -9.05520250e-02,\n",
       "        6.80637525e-02, -3.21116593e-01,  9.06945340e-02,  4.49580408e-01,\n",
       "       -2.38480533e-01, -1.51374226e-01, -9.73311138e-02, -9.30868389e-02,\n",
       "       -5.81547544e-02,  5.38502076e-02,  7.89803681e-02, -1.89025772e-01,\n",
       "       -3.07072185e-01, -5.38566498e-01,  6.48675329e-02, -1.04734520e-01,\n",
       "        3.17014425e-01,  3.96704955e-02,  3.29800788e-01, -2.97891161e-01,\n",
       "       -9.33527553e-15, -9.21827973e-15, -9.24777900e-15, -9.30565919e-15,\n",
       "       -9.25185688e-15, -9.24070955e-15, -9.23413470e-15, -9.11355515e-15,\n",
       "       -9.15846078e-15, -9.17140620e-15, -9.28005878e-15, -9.27267238e-15,\n",
       "       -9.33628175e-15, -9.09688991e-15,  9.73311138e-02,  9.30868389e-02,\n",
       "        5.81547544e-02, -5.38502076e-02, -7.89803681e-02,  1.89025772e-01,\n",
       "        3.07072185e-01,  5.38566498e-01, -6.48675329e-02,  1.04734520e-01,\n",
       "       -3.17014425e-01, -3.96704955e-02, -3.29800788e-01,  2.97891161e-01,\n",
       "        1.72710450e-01, -1.11489068e-02, -2.08086344e-01,  1.51708578e-01,\n",
       "        1.75512477e-01,  1.39981355e-01, -5.79538337e-02,  9.05520250e-02,\n",
       "       -6.80637525e-02,  3.21116593e-01, -9.06945340e-02, -4.49580408e-01,\n",
       "        2.38480533e-01,  1.51374226e-01,  2.40981588e-01,  1.93737056e-01,\n",
       "        2.96955381e-01,  2.28347714e-01,  2.04270788e-01,  7.34054163e-02,\n",
       "       -2.48885413e-01, -6.18466093e-02, -7.82348620e-02,  3.88947060e-01,\n",
       "        8.02762458e-02, -3.90637550e-02, -2.52995587e-02,  3.76140228e-01,\n",
       "        3.45697636e-01,  1.16983550e-01,  6.22095030e-02,  1.02383755e-01,\n",
       "        1.47464863e-01, -9.09162718e-04, -2.81534358e-01, -8.29821578e-02,\n",
       "       -4.29266068e-02,  9.88930697e-02,  5.93922531e-01,  1.05541463e-01,\n",
       "        3.53470652e-01,  3.51463381e-01,  4.52358883e-01,  1.57706735e-01,\n",
       "        1.58673816e-01,  3.32990676e-01,  3.64872712e-01,  4.00151015e-01,\n",
       "        2.02548753e-01,  5.51915245e-01,  6.37769419e-02,  2.48526429e-01,\n",
       "        3.18242273e-01,  7.75068097e-01, -7.52540467e-02,  4.25936910e-01,\n",
       "        5.43094746e-01,  3.06618550e-01,  2.81353217e-01,  3.65675720e-01,\n",
       "        3.97155478e-01,  1.74745748e-01, -4.13768686e-02,  4.63041928e-01,\n",
       "        1.15678358e-01,  2.64192863e-01,  3.18865493e-01,  7.99820980e-01,\n",
       "        3.88512168e-01,  5.88952323e-02,  6.29094742e-01,  2.67311455e-01,\n",
       "        3.18767736e-01,  3.38529778e-01,  1.66890769e-01,  1.97066001e-01,\n",
       "        3.28178295e-01,  3.25123339e-01,  4.97344298e-01,  1.09385101e-01,\n",
       "        6.44515132e-01,  6.30594507e-01,  5.91559157e-01,  2.98738336e-01,\n",
       "        7.43870375e-01,  5.17851868e-01,  4.81754615e-01,  4.17784593e-01,\n",
       "        3.99324126e-01,  3.70939694e-01,  6.36822557e-01,  3.52546892e-01,\n",
       "        5.31538973e-01,  3.78813839e-01,  4.76442256e-01,  1.03973645e+00,\n",
       "        5.57518329e-01,  3.74444141e-01,  9.04822032e-01,  6.35298215e-01,\n",
       "        5.06664549e-01,  7.46502388e-01,  7.89100456e-01,  6.26617517e-01,\n",
       "        6.62113528e-01,  6.27302751e-01,  7.96854394e-01,  7.52322114e-01,\n",
       "        6.83502077e-01,  5.65462945e-01,  1.02170891e-01,  5.31160457e-01,\n",
       "        1.18014901e+00,  9.47420089e-01,  1.12357140e+00,  1.12997593e+00,\n",
       "        1.11627330e+00,  9.58705400e-01,  8.75704069e-01,  1.15669099e+00,\n",
       "        9.44047092e-01,  1.02604472e+00,  7.87898525e-01,  9.07470856e-01,\n",
       "        1.03306439e+00,  8.34264714e-01])"
      ]
     },
     "execution_count": 57,
     "metadata": {},
     "output_type": "execute_result"
    }
   ],
   "source": [
    "G_star"
   ]
  },
  {
   "cell_type": "code",
   "execution_count": 58,
   "id": "df00bde0",
   "metadata": {},
   "outputs": [],
   "source": [
    "G_spread = {}\n",
    "for s in S_unique:\n",
    "    G_spread[s] = []\n",
    "    for i in I_unique:\n",
    "        x = I_map[i] * m +  S_map[s]\n",
    "        G_spread[s].append( G_star[x] )"
   ]
  },
  {
   "cell_type": "code",
   "execution_count": 62,
   "id": "cb12a94e",
   "metadata": {},
   "outputs": [
    {
     "data": {
      "image/png": "[encoded data removed]",
      "text/plain": [
       "<Figure size 640x480 with 1 Axes>"
      ]
     },
     "metadata": {},
     "output_type": "display_data"
    }
   ],
   "source": [
    "for s in S_unique[:5]:\n",
    "    plt.plot(I_unique, G_spread[s], label=f'spread = {s}')\n",
    "plt.grid()\n",
    "plt.legend()\n",
    "plt.xlabel(\"imbalance\")\n",
    "plt.ylabel('predicted midprice change')\n",
    "plt.show()"
   ]
  }
 ],
 "metadata": {
  "kernelspec": {
   "display_name": "env",
   "language": "python",
   "name": "env"
  },
  "language_info": {
   "codemirror_mode": {
    "name": "ipython",
    "version": 3
   },
   "file_extension": ".py",
   "mimetype": "text/x-python",
   "name": "python",
   "nbconvert_exporter": "python",
   "pygments_lexer": "ipython3",
   "version": "3.8.12"
  },
  "toc": {
   "base_numbering": 1,
   "nav_menu": {},
   "number_sections": true,
   "sideBar": true,
   "skip_h1_title": false,
   "title_cell": "Table of Contents",
   "title_sidebar": "Contents",
   "toc_cell": false,
   "toc_position": {},
   "toc_section_display": true,
   "toc_window_display": false
  }
 },
 "nbformat": 4,
 "nbformat_minor": 5
}
