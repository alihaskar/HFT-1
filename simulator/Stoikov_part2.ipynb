{
 "cells": [
  {
   "cell_type": "code",
   "execution_count": 1,
   "id": "3a2184ed",
   "metadata": {},
   "outputs": [],
   "source": [
    "from simulator import Sim\n",
    "from base_strategy import BaseStrategy\n",
    "\n",
    "from stoikov_strategy import StoikovStrategy, FutureStrategy\n",
    "\n",
    "from get_info import get_pnl\n",
    "from load_data import load_md_from_file\n",
    "\n",
    "\n",
    "import pandas as pd\n",
    "import numpy as np\n",
    "from matplotlib import pyplot as plt\n",
    "\n",
    "PATH_TO_FILE = '../md/btcusdt:Binance:LinearPerpetual/'\n",
    "T = pd.Timedelta(2, 'h').delta"
   ]
  },
  {
   "cell_type": "code",
   "execution_count": 2,
   "id": "a4d94e30",
   "metadata": {},
   "outputs": [],
   "source": [
    "def get_vol(df):\n",
    "    return np.sum( np.abs( np.diff(df.BTC.values) ) )"
   ]
  },
  {
   "cell_type": "code",
   "execution_count": 3,
   "id": "ec48792b",
   "metadata": {},
   "outputs": [],
   "source": [
    "md = load_md_from_file(path=PATH_TO_FILE, T=T)"
   ]
  },
  {
   "cell_type": "code",
   "execution_count": 4,
   "id": "d6a478b4",
   "metadata": {},
   "outputs": [],
   "source": [
    "latency = pd.Timedelta(10, 'ms').delta\n",
    "md_latency = pd.Timedelta(10, 'ms').delta\n",
    "\n",
    "#delay between orders\n",
    "delay = pd.Timedelta(0.5, 's').delta\n",
    "\n",
    "min_pos = 0.001\n",
    "\n",
    "q0 = 10.0"
   ]
  },
  {
   "cell_type": "code",
   "execution_count": 5,
   "id": "a60a04d4",
   "metadata": {},
   "outputs": [],
   "source": [
    "gamma = 0.1"
   ]
  },
  {
   "cell_type": "code",
   "execution_count": 6,
   "id": "df1d1e79",
   "metadata": {},
   "outputs": [],
   "source": [
    "name = ['stoikov', 'future', 'furute_inv', 'best price']"
   ]
  },
  {
   "cell_type": "code",
   "execution_count": 7,
   "id": "a992b812",
   "metadata": {},
   "outputs": [],
   "source": [
    "s1 = StoikovStrategy(delay, min_pos, delay, gamma, \n",
    "                     theta_policy='spread')\n",
    "\n",
    "s2 = FutureStrategy(delay, min_pos, delay, gamma, md, \n",
    "                    theta_policy='spread', \n",
    "                    inventory_policy='neutral', \n",
    "                    q0=q0)\n",
    "\n",
    "s3 = FutureStrategy(delay, min_pos, delay, gamma, md, \n",
    "                    theta_policy='spread', \n",
    "                    inventory_policy='aggressive', \n",
    "                    q0=q0)\n",
    "\n",
    "s4 = BaseStrategy(delay, min_pos, delay, \n",
    "                  inventory_policy='aggressive',\n",
    "                  q0=q0)"
   ]
  },
  {
   "cell_type": "code",
   "execution_count": 8,
   "id": "dfd53703",
   "metadata": {},
   "outputs": [],
   "source": [
    "strats = dict(zip(name, [s1, s2, s3, s4]))"
   ]
  },
  {
   "cell_type": "code",
   "execution_count": null,
   "id": "3f080e4c",
   "metadata": {},
   "outputs": [],
   "source": [
    "dfs = {}\n",
    "for k, s in strats.items():\n",
    "    r = s.run(Sim(md, latency, md_latency))\n",
    "    \n",
    "    dfs[k] = get_pnl(r['update'], cost=-0.00001)\n",
    "    del r"
   ]
  },
  {
   "cell_type": "code",
   "execution_count": null,
   "id": "537bb088",
   "metadata": {},
   "outputs": [],
   "source": [
    "for k, df in dfs.items():\n",
    "    dt = pd.to_datetime(df.receive_ts)\n",
    "    plt.plot(dt, df.total, label=k)\n",
    "plt.legend()\n",
    "plt.grid()\n",
    "plt.show()"
   ]
  },
  {
   "cell_type": "code",
   "execution_count": null,
   "id": "55d05f3a",
   "metadata": {},
   "outputs": [],
   "source": [
    "for k, df in dfs.items():\n",
    "    dt = pd.to_datetime(df.receive_ts)\n",
    "    plt.plot(dt, df.BTC, label=k)\n",
    "plt.legend()\n",
    "plt.grid()\n",
    "plt.show()"
   ]
  },
  {
   "cell_type": "code",
   "execution_count": null,
   "id": "0e541b08",
   "metadata": {},
   "outputs": [],
   "source": [
    "for k, df in dfs.items():\n",
    "    vol = get_vol(df) / (T / 1e9 / 60)\n",
    "    \n",
    "    print(k, 'vol = ', vol)"
   ]
  }
 ],
 "metadata": {
  "kernelspec": {
   "display_name": "env",
   "language": "python",
   "name": "env"
  },
  "language_info": {
   "codemirror_mode": {
    "name": "ipython",
    "version": 3
   },
   "file_extension": ".py",
   "mimetype": "text/x-python",
   "name": "python",
   "nbconvert_exporter": "python",
   "pygments_lexer": "ipython3",
   "version": "3.8.12"
  },
  "toc": {
   "base_numbering": 1,
   "nav_menu": {},
   "number_sections": true,
   "sideBar": true,
   "skip_h1_title": false,
   "title_cell": "Table of Contents",
   "title_sidebar": "Contents",
   "toc_cell": false,
   "toc_position": {},
   "toc_section_display": true,
   "toc_window_display": false
  }
 },
 "nbformat": 4,
 "nbformat_minor": 5
}
