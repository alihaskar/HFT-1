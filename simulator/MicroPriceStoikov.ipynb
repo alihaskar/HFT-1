{
 "cells": [
  {
   "cell_type": "code",
   "execution_count": 1,
   "id": "3a2184ed",
   "metadata": {},
   "outputs": [],
   "source": [
    "from simulator import Sim\n",
    "from base_strategy import BaseStrategy\n",
    "\n",
    "from stoikov_strategy import StoikovStrategy, FutureStrategy\n",
    "\n",
    "from get_info import get_pnl\n",
    "from load_data import load_md_from_file\n",
    "\n",
    "\n",
    "import pandas as pd\n",
    "import numpy as np\n",
    "from matplotlib import pyplot as plt\n",
    "\n",
    "PATH_TO_FILE = '../md/btcusdt:Binance:LinearPerpetual/'\n",
    "T = pd.Timedelta(120, 'm').delta"
   ]
  },
  {
   "cell_type": "code",
   "execution_count": 34,
   "id": "8cfda89b",
   "metadata": {},
   "outputs": [],
   "source": [
    "class SimpleMicroPrice:\n",
    "    def __init__(self, n_imb, m_spread, alpha):\n",
    "        self.n_imb = n_imb\n",
    "        self.m_spread = m_spread\n",
    "        self.alpha = alpha\n",
    "        \n",
    "        \n",
    "        self.imb_set = list(range(0, n))\n",
    "        \n",
    "        \n",
    "    def _round_imbalance(self, imb):\n",
    "        return (imb * self.n_imb).astype(int)\n",
    "    \n",
    "    \n",
    "    def _round_spread(self, spread):\n",
    "        spread = np.round_(spread, 4)\n",
    "        spread = (np.clip(spread, 0, self.max_spread) / self.min_spread).astype(int)\n",
    "        return spread\n",
    "    \n",
    "    def _round_dm(self, dm):\n",
    "        dm = np.round_(dm, 2)\n",
    "        dm = np.clip(dm, self.q1, self.q2)\n",
    "        return dm\n",
    "    \n",
    "    \n",
    "    def _round(self, imb, spread, dm=None):\n",
    "        imb = self._round_imbalance(imb)\n",
    "        spread = self._round_spread(spread)\n",
    "        if dm is None:\n",
    "            return imb, spread\n",
    "        dm = self._round_dm(dm)\n",
    "        return imb, spread, dm\n",
    "    \n",
    "    \n",
    "    def _fit_rounder(self, imb, spread, dm):\n",
    "        #fit spread rounder\n",
    "        spread = np.round_(spread, 4)\n",
    "        self.max_spread = np.quantile(spread, 0.99)\n",
    "        self.min_spread = np.min(spread)\n",
    "        spread = (np.clip(spread, 0, self.max_spread) / self.min_spread).astype(int)\n",
    "        self.spread_set = sorted(set(spread))\n",
    "        #list(range(1, int(self.max_spread / self.min_spread) + 1))\n",
    "        self.m_spread = len(self.spread_set)\n",
    "        #fit dm rounder\n",
    "        dm = np.round_(dm, 2)\n",
    "        \n",
    "        q = np.quantile(np.abs(dm[dm != 0]), self.alpha)\n",
    "        self.q1, self.q2 = -q, q\n",
    "\n",
    "        dm = np.clip(dm, self.q1, self.q2)\n",
    "        self.dm_set = sorted(set(dm) | set(-dm))\n",
    "        self.k_dm = len(self.dm_set)\n",
    "    \n",
    "    \n",
    "    def fit(self, I, S, dM):\n",
    "        self._fit_rounder(I, S, dM)\n",
    "        I, S, dM = self._round(I, S, dM)\n",
    "        \n",
    "        self.i_map = dict( zip( self.imb_set, range(len(self.imb_set)) ) )\n",
    "        self.s_map = dict( zip( self.spread_set, range(len(self.spread_set)) ) )\n",
    "        self.dm_map = dict( zip( self.dm_set, range(len(self.dm_set)) ) )\n",
    "            \n",
    "        n, m, k = self.n_imb, self.m_spread, self.k_dm\n",
    "        \n",
    "        R = np.zeros((n * m , k))\n",
    "        T = np.zeros((n * m , n * m))\n",
    "        Q = np.zeros((n * m , n * m))\n",
    "\n",
    "        cont = np.zeros((n * m, 1))\n",
    "\n",
    "        N = len(dM)\n",
    "\n",
    "        for idx in range(N):\n",
    "\n",
    "            i, i_ = I[idx], I[idx + 1]\n",
    "            s, s_ = S[idx], S[idx + 1]\n",
    "            dm = dM[idx]\n",
    "\n",
    "            x = self.i_map[i] * m +  self.s_map[s]\n",
    "            y = self.i_map[i_] * m + self.s_map[s_]\n",
    "            cont[x] += 1\n",
    "            j = self.dm_map[dm]\n",
    "            if dm != 0.0:\n",
    "                R[x, j] += 1\n",
    "                T[x, y] += 1\n",
    "            else:\n",
    "                Q[x, y] += 1\n",
    "\n",
    "            #Symmetrize the data\n",
    "            i, i_ = n - 1 - I[idx], n - 1 - I[idx + 1]\n",
    "            dm = -dM[idx]\n",
    "\n",
    "            x = self.i_map[i] * m +  self.s_map[s]\n",
    "            y = self.i_map[i_] * m + self.s_map[s_]\n",
    "            cont[x] += 1\n",
    "            j = self.dm_map[dm]\n",
    "            if dm != 0.0:\n",
    "                R[x, j] += 1\n",
    "                T[x, y] += 1\n",
    "            else:\n",
    "                Q[x, y] += 1\n",
    "\n",
    "        R /= (cont + 1e-10)\n",
    "        Q /= (cont + 1e-10)\n",
    "        T /= (cont + 1e-10)\n",
    "\n",
    "        Q_inv = np.linalg.inv(np.eye(n * m) - Q)\n",
    "        G = Q_inv @ (R @ np.asarray(self.dm_set))\n",
    "        B = Q_inv @ T\n",
    "\n",
    "        n_iter = 100\n",
    "\n",
    "        errors = []\n",
    "        G_star = G\n",
    "        for i in range(n_iter):\n",
    "            G_star = G + B @ G_star\n",
    "            \n",
    "        G_spread = {}\n",
    "        for s in self.spread_set:\n",
    "            G_spread[s] = []\n",
    "            for i in self.imb_set:\n",
    "                x = self.i_map[i] * m +  self.s_map[s]\n",
    "                G_spread[s].append( G_star[x] )\n",
    "        self.G = G_spread    \n",
    "        \n",
    "\n",
    "    def predict(self, I:np.ndarray, S:np.ndarray):\n",
    "        I, S = self._round(I, S)\n",
    "        predict = np.asarray([ self.G[s][i] for s, i in zip(S, I) ])\n",
    "        return predict"
   ]
  },
  {
   "cell_type": "code",
   "execution_count": null,
   "id": "b2fa020f",
   "metadata": {},
   "outputs": [],
   "source": [
    "class MicroPrice:\n",
    "    def __init__(self, n_imb, m_spread, alpha, n_layers):\n",
    "        self.n_imb = n_imb\n",
    "        self.m_spread = m_spread\n",
    "        self.alpha = alpha\n",
    "        self.n_layers = n_layers\n",
    "        self.pricer = SimpleMicroPrice(n_imb, m_spread, alpha)\n",
    "        \n",
    "        \n",
    "    def preprocessing(self, data):\n",
    "        \n",
    "        \n",
    "    \n",
    "    def fit(self, data):\n",
    "        pass\n",
    "    \n",
    "    \n",
    "    def predict(self, data):\n",
    "        pass"
   ]
  },
  {
   "cell_type": "code",
   "execution_count": 35,
   "id": "2104107e",
   "metadata": {},
   "outputs": [],
   "source": [
    "from load_data import load_before_time"
   ]
  },
  {
   "cell_type": "code",
   "execution_count": 77,
   "id": "b3b4d72d",
   "metadata": {},
   "outputs": [],
   "source": [
    "lobs = load_before_time(PATH_TO_FILE + 'lobs.csv', T)\n",
    "\n",
    "names = lobs.columns.values\n",
    "ln = len('btcusdt:Binance:LinearPerpetual_')\n",
    "renamer = { name:name[ln:] for name in names[2:]}\n",
    "renamer[' exchange_ts'] = 'exchange_ts'\n",
    "lobs.rename(renamer, axis=1, inplace=True)"
   ]
  },
  {
   "cell_type": "code",
   "execution_count": 78,
   "id": "fbf5dfe8",
   "metadata": {},
   "outputs": [
    {
     "data": {
      "text/html": [
       "<div>\n",
       "<style scoped>\n",
       "    .dataframe tbody tr th:only-of-type {\n",
       "        vertical-align: middle;\n",
       "    }\n",
       "\n",
       "    .dataframe tbody tr th {\n",
       "        vertical-align: top;\n",
       "    }\n",
       "\n",
       "    .dataframe thead th {\n",
       "        text-align: right;\n",
       "    }\n",
       "</style>\n",
       "<table border=\"1\" class=\"dataframe\">\n",
       "  <thead>\n",
       "    <tr style=\"text-align: right;\">\n",
       "      <th></th>\n",
       "      <th>receive_ts</th>\n",
       "      <th>exchange_ts</th>\n",
       "      <th>ask_price_0</th>\n",
       "      <th>ask_vol_0</th>\n",
       "      <th>bid_price_0</th>\n",
       "      <th>bid_vol_0</th>\n",
       "      <th>ask_price_1</th>\n",
       "      <th>ask_vol_1</th>\n",
       "      <th>bid_price_1</th>\n",
       "      <th>bid_vol_1</th>\n",
       "      <th>...</th>\n",
       "      <th>bid_price_7</th>\n",
       "      <th>bid_vol_7</th>\n",
       "      <th>ask_price_8</th>\n",
       "      <th>ask_vol_8</th>\n",
       "      <th>bid_price_8</th>\n",
       "      <th>bid_vol_8</th>\n",
       "      <th>ask_price_9</th>\n",
       "      <th>ask_vol_9</th>\n",
       "      <th>bid_price_9</th>\n",
       "      <th>bid_vol_9</th>\n",
       "    </tr>\n",
       "  </thead>\n",
       "  <tbody>\n",
       "    <tr>\n",
       "      <th>0</th>\n",
       "      <td>1655942402250125991</td>\n",
       "      <td>1655942402249000000</td>\n",
       "      <td>19977.5</td>\n",
       "      <td>0.079</td>\n",
       "      <td>19977.4</td>\n",
       "      <td>12.381</td>\n",
       "      <td>19977.8</td>\n",
       "      <td>0.003</td>\n",
       "      <td>19976.7</td>\n",
       "      <td>0.066</td>\n",
       "      <td>...</td>\n",
       "      <td>19975.7</td>\n",
       "      <td>4.455</td>\n",
       "      <td>19980.1</td>\n",
       "      <td>0.010</td>\n",
       "      <td>19975.6</td>\n",
       "      <td>1.529</td>\n",
       "      <td>19980.2</td>\n",
       "      <td>0.010</td>\n",
       "      <td>19975.4</td>\n",
       "      <td>1.641</td>\n",
       "    </tr>\n",
       "    <tr>\n",
       "      <th>1</th>\n",
       "      <td>1655942402657844605</td>\n",
       "      <td>1655942402655000000</td>\n",
       "      <td>19977.5</td>\n",
       "      <td>0.078</td>\n",
       "      <td>19977.4</td>\n",
       "      <td>12.381</td>\n",
       "      <td>19977.8</td>\n",
       "      <td>0.003</td>\n",
       "      <td>19977.3</td>\n",
       "      <td>0.126</td>\n",
       "      <td>...</td>\n",
       "      <td>19975.9</td>\n",
       "      <td>0.246</td>\n",
       "      <td>19980.1</td>\n",
       "      <td>0.010</td>\n",
       "      <td>19975.8</td>\n",
       "      <td>0.686</td>\n",
       "      <td>19980.2</td>\n",
       "      <td>0.010</td>\n",
       "      <td>19975.7</td>\n",
       "      <td>4.455</td>\n",
       "    </tr>\n",
       "    <tr>\n",
       "      <th>2</th>\n",
       "      <td>1655942403346968722</td>\n",
       "      <td>1655942403346000000</td>\n",
       "      <td>19977.5</td>\n",
       "      <td>0.079</td>\n",
       "      <td>19977.4</td>\n",
       "      <td>12.381</td>\n",
       "      <td>19977.8</td>\n",
       "      <td>0.003</td>\n",
       "      <td>19977.3</td>\n",
       "      <td>0.126</td>\n",
       "      <td>...</td>\n",
       "      <td>19975.9</td>\n",
       "      <td>0.246</td>\n",
       "      <td>19980.1</td>\n",
       "      <td>0.010</td>\n",
       "      <td>19975.8</td>\n",
       "      <td>0.686</td>\n",
       "      <td>19980.2</td>\n",
       "      <td>0.010</td>\n",
       "      <td>19975.7</td>\n",
       "      <td>4.455</td>\n",
       "    </tr>\n",
       "    <tr>\n",
       "      <th>3</th>\n",
       "      <td>1655942404080791047</td>\n",
       "      <td>1655942404080000000</td>\n",
       "      <td>19977.5</td>\n",
       "      <td>0.079</td>\n",
       "      <td>19977.4</td>\n",
       "      <td>12.381</td>\n",
       "      <td>19977.8</td>\n",
       "      <td>0.003</td>\n",
       "      <td>19977.3</td>\n",
       "      <td>0.126</td>\n",
       "      <td>...</td>\n",
       "      <td>19975.9</td>\n",
       "      <td>0.246</td>\n",
       "      <td>19980.1</td>\n",
       "      <td>0.010</td>\n",
       "      <td>19975.8</td>\n",
       "      <td>0.686</td>\n",
       "      <td>19980.2</td>\n",
       "      <td>0.010</td>\n",
       "      <td>19975.7</td>\n",
       "      <td>4.455</td>\n",
       "    </tr>\n",
       "    <tr>\n",
       "      <th>4</th>\n",
       "      <td>1655942404452706766</td>\n",
       "      <td>1655942404452000000</td>\n",
       "      <td>19977.5</td>\n",
       "      <td>0.079</td>\n",
       "      <td>19977.4</td>\n",
       "      <td>12.381</td>\n",
       "      <td>19977.8</td>\n",
       "      <td>0.003</td>\n",
       "      <td>19977.3</td>\n",
       "      <td>0.126</td>\n",
       "      <td>...</td>\n",
       "      <td>19975.9</td>\n",
       "      <td>0.246</td>\n",
       "      <td>19980.1</td>\n",
       "      <td>0.010</td>\n",
       "      <td>19975.8</td>\n",
       "      <td>0.686</td>\n",
       "      <td>19980.2</td>\n",
       "      <td>0.010</td>\n",
       "      <td>19975.7</td>\n",
       "      <td>4.455</td>\n",
       "    </tr>\n",
       "    <tr>\n",
       "      <th>...</th>\n",
       "      <td>...</td>\n",
       "      <td>...</td>\n",
       "      <td>...</td>\n",
       "      <td>...</td>\n",
       "      <td>...</td>\n",
       "      <td>...</td>\n",
       "      <td>...</td>\n",
       "      <td>...</td>\n",
       "      <td>...</td>\n",
       "      <td>...</td>\n",
       "      <td>...</td>\n",
       "      <td>...</td>\n",
       "      <td>...</td>\n",
       "      <td>...</td>\n",
       "      <td>...</td>\n",
       "      <td>...</td>\n",
       "      <td>...</td>\n",
       "      <td>...</td>\n",
       "      <td>...</td>\n",
       "      <td>...</td>\n",
       "      <td>...</td>\n",
       "    </tr>\n",
       "    <tr>\n",
       "      <th>206519</th>\n",
       "      <td>1655949602089731797</td>\n",
       "      <td>1655949602089000000</td>\n",
       "      <td>20367.0</td>\n",
       "      <td>2.467</td>\n",
       "      <td>20366.9</td>\n",
       "      <td>2.101</td>\n",
       "      <td>20367.1</td>\n",
       "      <td>0.348</td>\n",
       "      <td>20366.8</td>\n",
       "      <td>0.117</td>\n",
       "      <td>...</td>\n",
       "      <td>20364.7</td>\n",
       "      <td>0.322</td>\n",
       "      <td>20368.2</td>\n",
       "      <td>0.008</td>\n",
       "      <td>20364.6</td>\n",
       "      <td>1.110</td>\n",
       "      <td>20368.3</td>\n",
       "      <td>1.684</td>\n",
       "      <td>20364.5</td>\n",
       "      <td>0.400</td>\n",
       "    </tr>\n",
       "    <tr>\n",
       "      <th>206520</th>\n",
       "      <td>1655949602122549162</td>\n",
       "      <td>1655949602121000000</td>\n",
       "      <td>20367.0</td>\n",
       "      <td>1.459</td>\n",
       "      <td>20366.9</td>\n",
       "      <td>2.391</td>\n",
       "      <td>20367.1</td>\n",
       "      <td>0.348</td>\n",
       "      <td>20366.8</td>\n",
       "      <td>0.117</td>\n",
       "      <td>...</td>\n",
       "      <td>20364.9</td>\n",
       "      <td>0.127</td>\n",
       "      <td>20368.5</td>\n",
       "      <td>0.550</td>\n",
       "      <td>20364.8</td>\n",
       "      <td>0.892</td>\n",
       "      <td>20368.6</td>\n",
       "      <td>1.485</td>\n",
       "      <td>20364.7</td>\n",
       "      <td>0.478</td>\n",
       "    </tr>\n",
       "    <tr>\n",
       "      <th>206521</th>\n",
       "      <td>1655949602157709637</td>\n",
       "      <td>1655949602157000000</td>\n",
       "      <td>20367.0</td>\n",
       "      <td>1.383</td>\n",
       "      <td>20366.9</td>\n",
       "      <td>3.089</td>\n",
       "      <td>20367.1</td>\n",
       "      <td>0.348</td>\n",
       "      <td>20366.8</td>\n",
       "      <td>0.117</td>\n",
       "      <td>...</td>\n",
       "      <td>20364.8</td>\n",
       "      <td>0.600</td>\n",
       "      <td>20368.5</td>\n",
       "      <td>0.550</td>\n",
       "      <td>20364.7</td>\n",
       "      <td>0.322</td>\n",
       "      <td>20368.6</td>\n",
       "      <td>1.485</td>\n",
       "      <td>20364.6</td>\n",
       "      <td>1.110</td>\n",
       "    </tr>\n",
       "    <tr>\n",
       "      <th>206522</th>\n",
       "      <td>1655949602189840336</td>\n",
       "      <td>1655949602189000000</td>\n",
       "      <td>20367.0</td>\n",
       "      <td>1.486</td>\n",
       "      <td>20366.9</td>\n",
       "      <td>2.442</td>\n",
       "      <td>20367.1</td>\n",
       "      <td>0.348</td>\n",
       "      <td>20366.8</td>\n",
       "      <td>0.117</td>\n",
       "      <td>...</td>\n",
       "      <td>20364.8</td>\n",
       "      <td>0.600</td>\n",
       "      <td>20368.3</td>\n",
       "      <td>1.684</td>\n",
       "      <td>20364.7</td>\n",
       "      <td>0.322</td>\n",
       "      <td>20368.5</td>\n",
       "      <td>0.550</td>\n",
       "      <td>20364.6</td>\n",
       "      <td>1.110</td>\n",
       "    </tr>\n",
       "    <tr>\n",
       "      <th>206523</th>\n",
       "      <td>1655949602221638590</td>\n",
       "      <td>1655949602221000000</td>\n",
       "      <td>20367.0</td>\n",
       "      <td>1.486</td>\n",
       "      <td>20366.9</td>\n",
       "      <td>2.403</td>\n",
       "      <td>20367.1</td>\n",
       "      <td>0.348</td>\n",
       "      <td>20366.8</td>\n",
       "      <td>0.117</td>\n",
       "      <td>...</td>\n",
       "      <td>20364.9</td>\n",
       "      <td>0.180</td>\n",
       "      <td>20368.3</td>\n",
       "      <td>1.684</td>\n",
       "      <td>20364.8</td>\n",
       "      <td>0.600</td>\n",
       "      <td>20368.5</td>\n",
       "      <td>0.550</td>\n",
       "      <td>20364.7</td>\n",
       "      <td>0.322</td>\n",
       "    </tr>\n",
       "  </tbody>\n",
       "</table>\n",
       "<p>206524 rows × 42 columns</p>\n",
       "</div>"
      ],
      "text/plain": [
       "                 receive_ts          exchange_ts  ask_price_0  ask_vol_0  \\\n",
       "0       1655942402250125991  1655942402249000000      19977.5      0.079   \n",
       "1       1655942402657844605  1655942402655000000      19977.5      0.078   \n",
       "2       1655942403346968722  1655942403346000000      19977.5      0.079   \n",
       "3       1655942404080791047  1655942404080000000      19977.5      0.079   \n",
       "4       1655942404452706766  1655942404452000000      19977.5      0.079   \n",
       "...                     ...                  ...          ...        ...   \n",
       "206519  1655949602089731797  1655949602089000000      20367.0      2.467   \n",
       "206520  1655949602122549162  1655949602121000000      20367.0      1.459   \n",
       "206521  1655949602157709637  1655949602157000000      20367.0      1.383   \n",
       "206522  1655949602189840336  1655949602189000000      20367.0      1.486   \n",
       "206523  1655949602221638590  1655949602221000000      20367.0      1.486   \n",
       "\n",
       "        bid_price_0  bid_vol_0  ask_price_1  ask_vol_1  bid_price_1  \\\n",
       "0           19977.4     12.381      19977.8      0.003      19976.7   \n",
       "1           19977.4     12.381      19977.8      0.003      19977.3   \n",
       "2           19977.4     12.381      19977.8      0.003      19977.3   \n",
       "3           19977.4     12.381      19977.8      0.003      19977.3   \n",
       "4           19977.4     12.381      19977.8      0.003      19977.3   \n",
       "...             ...        ...          ...        ...          ...   \n",
       "206519      20366.9      2.101      20367.1      0.348      20366.8   \n",
       "206520      20366.9      2.391      20367.1      0.348      20366.8   \n",
       "206521      20366.9      3.089      20367.1      0.348      20366.8   \n",
       "206522      20366.9      2.442      20367.1      0.348      20366.8   \n",
       "206523      20366.9      2.403      20367.1      0.348      20366.8   \n",
       "\n",
       "        bid_vol_1  ...  bid_price_7  bid_vol_7  ask_price_8  ask_vol_8  \\\n",
       "0           0.066  ...      19975.7      4.455      19980.1      0.010   \n",
       "1           0.126  ...      19975.9      0.246      19980.1      0.010   \n",
       "2           0.126  ...      19975.9      0.246      19980.1      0.010   \n",
       "3           0.126  ...      19975.9      0.246      19980.1      0.010   \n",
       "4           0.126  ...      19975.9      0.246      19980.1      0.010   \n",
       "...           ...  ...          ...        ...          ...        ...   \n",
       "206519      0.117  ...      20364.7      0.322      20368.2      0.008   \n",
       "206520      0.117  ...      20364.9      0.127      20368.5      0.550   \n",
       "206521      0.117  ...      20364.8      0.600      20368.5      0.550   \n",
       "206522      0.117  ...      20364.8      0.600      20368.3      1.684   \n",
       "206523      0.117  ...      20364.9      0.180      20368.3      1.684   \n",
       "\n",
       "        bid_price_8  bid_vol_8  ask_price_9  ask_vol_9  bid_price_9  bid_vol_9  \n",
       "0           19975.6      1.529      19980.2      0.010      19975.4      1.641  \n",
       "1           19975.8      0.686      19980.2      0.010      19975.7      4.455  \n",
       "2           19975.8      0.686      19980.2      0.010      19975.7      4.455  \n",
       "3           19975.8      0.686      19980.2      0.010      19975.7      4.455  \n",
       "4           19975.8      0.686      19980.2      0.010      19975.7      4.455  \n",
       "...             ...        ...          ...        ...          ...        ...  \n",
       "206519      20364.6      1.110      20368.3      1.684      20364.5      0.400  \n",
       "206520      20364.8      0.892      20368.6      1.485      20364.7      0.478  \n",
       "206521      20364.7      0.322      20368.6      1.485      20364.6      1.110  \n",
       "206522      20364.7      0.322      20368.5      0.550      20364.6      1.110  \n",
       "206523      20364.8      0.600      20368.5      0.550      20364.7      0.322  \n",
       "\n",
       "[206524 rows x 42 columns]"
      ]
     },
     "execution_count": 78,
     "metadata": {},
     "output_type": "execute_result"
    }
   ],
   "source": [
    "lobs"
   ]
  },
  {
   "cell_type": "code",
   "execution_count": 37,
   "id": "dca63488",
   "metadata": {},
   "outputs": [],
   "source": [
    "lobs = lobs[['receive_ts', 'ask_price_0', 'ask_vol_0', 'bid_price_0', 'bid_vol_0']]"
   ]
  },
  {
   "cell_type": "code",
   "execution_count": 38,
   "id": "82377872",
   "metadata": {},
   "outputs": [],
   "source": [
    "lobs = lobs.rename(mapper={col:col[:-2] for col in lobs.columns if col[-1] == '0'}, axis=1)"
   ]
  },
  {
   "cell_type": "code",
   "execution_count": 39,
   "id": "bc7a0eff",
   "metadata": {},
   "outputs": [
    {
     "data": {
      "text/html": [
       "<div>\n",
       "<style scoped>\n",
       "    .dataframe tbody tr th:only-of-type {\n",
       "        vertical-align: middle;\n",
       "    }\n",
       "\n",
       "    .dataframe tbody tr th {\n",
       "        vertical-align: top;\n",
       "    }\n",
       "\n",
       "    .dataframe thead th {\n",
       "        text-align: right;\n",
       "    }\n",
       "</style>\n",
       "<table border=\"1\" class=\"dataframe\">\n",
       "  <thead>\n",
       "    <tr style=\"text-align: right;\">\n",
       "      <th></th>\n",
       "      <th>receive_ts</th>\n",
       "      <th>ask_price</th>\n",
       "      <th>ask_vol</th>\n",
       "      <th>bid_price</th>\n",
       "      <th>bid_vol</th>\n",
       "    </tr>\n",
       "  </thead>\n",
       "  <tbody>\n",
       "    <tr>\n",
       "      <th>0</th>\n",
       "      <td>1655942402250125991</td>\n",
       "      <td>19977.5</td>\n",
       "      <td>0.079</td>\n",
       "      <td>19977.4</td>\n",
       "      <td>12.381</td>\n",
       "    </tr>\n",
       "    <tr>\n",
       "      <th>1</th>\n",
       "      <td>1655942402657844605</td>\n",
       "      <td>19977.5</td>\n",
       "      <td>0.078</td>\n",
       "      <td>19977.4</td>\n",
       "      <td>12.381</td>\n",
       "    </tr>\n",
       "    <tr>\n",
       "      <th>2</th>\n",
       "      <td>1655942403346968722</td>\n",
       "      <td>19977.5</td>\n",
       "      <td>0.079</td>\n",
       "      <td>19977.4</td>\n",
       "      <td>12.381</td>\n",
       "    </tr>\n",
       "    <tr>\n",
       "      <th>3</th>\n",
       "      <td>1655942404080791047</td>\n",
       "      <td>19977.5</td>\n",
       "      <td>0.079</td>\n",
       "      <td>19977.4</td>\n",
       "      <td>12.381</td>\n",
       "    </tr>\n",
       "    <tr>\n",
       "      <th>4</th>\n",
       "      <td>1655942404452706766</td>\n",
       "      <td>19977.5</td>\n",
       "      <td>0.079</td>\n",
       "      <td>19977.4</td>\n",
       "      <td>12.381</td>\n",
       "    </tr>\n",
       "    <tr>\n",
       "      <th>...</th>\n",
       "      <td>...</td>\n",
       "      <td>...</td>\n",
       "      <td>...</td>\n",
       "      <td>...</td>\n",
       "      <td>...</td>\n",
       "    </tr>\n",
       "    <tr>\n",
       "      <th>206519</th>\n",
       "      <td>1655949602089731797</td>\n",
       "      <td>20367.0</td>\n",
       "      <td>2.467</td>\n",
       "      <td>20366.9</td>\n",
       "      <td>2.101</td>\n",
       "    </tr>\n",
       "    <tr>\n",
       "      <th>206520</th>\n",
       "      <td>1655949602122549162</td>\n",
       "      <td>20367.0</td>\n",
       "      <td>1.459</td>\n",
       "      <td>20366.9</td>\n",
       "      <td>2.391</td>\n",
       "    </tr>\n",
       "    <tr>\n",
       "      <th>206521</th>\n",
       "      <td>1655949602157709637</td>\n",
       "      <td>20367.0</td>\n",
       "      <td>1.383</td>\n",
       "      <td>20366.9</td>\n",
       "      <td>3.089</td>\n",
       "    </tr>\n",
       "    <tr>\n",
       "      <th>206522</th>\n",
       "      <td>1655949602189840336</td>\n",
       "      <td>20367.0</td>\n",
       "      <td>1.486</td>\n",
       "      <td>20366.9</td>\n",
       "      <td>2.442</td>\n",
       "    </tr>\n",
       "    <tr>\n",
       "      <th>206523</th>\n",
       "      <td>1655949602221638590</td>\n",
       "      <td>20367.0</td>\n",
       "      <td>1.486</td>\n",
       "      <td>20366.9</td>\n",
       "      <td>2.403</td>\n",
       "    </tr>\n",
       "  </tbody>\n",
       "</table>\n",
       "<p>206524 rows × 5 columns</p>\n",
       "</div>"
      ],
      "text/plain": [
       "                 receive_ts  ask_price  ask_vol  bid_price  bid_vol\n",
       "0       1655942402250125991    19977.5    0.079    19977.4   12.381\n",
       "1       1655942402657844605    19977.5    0.078    19977.4   12.381\n",
       "2       1655942403346968722    19977.5    0.079    19977.4   12.381\n",
       "3       1655942404080791047    19977.5    0.079    19977.4   12.381\n",
       "4       1655942404452706766    19977.5    0.079    19977.4   12.381\n",
       "...                     ...        ...      ...        ...      ...\n",
       "206519  1655949602089731797    20367.0    2.467    20366.9    2.101\n",
       "206520  1655949602122549162    20367.0    1.459    20366.9    2.391\n",
       "206521  1655949602157709637    20367.0    1.383    20366.9    3.089\n",
       "206522  1655949602189840336    20367.0    1.486    20366.9    2.442\n",
       "206523  1655949602221638590    20367.0    1.486    20366.9    2.403\n",
       "\n",
       "[206524 rows x 5 columns]"
      ]
     },
     "execution_count": 39,
     "metadata": {},
     "output_type": "execute_result"
    }
   ],
   "source": [
    "lobs"
   ]
  },
  {
   "cell_type": "code",
   "execution_count": 40,
   "id": "48b43096",
   "metadata": {},
   "outputs": [],
   "source": [
    "lobs['mid_price'] = 0.5 * (lobs['ask_price'] + lobs['bid_price'])\n",
    "lobs['spread'] = (lobs['ask_price'] - lobs['bid_price'])\n",
    "lobs['imbalance'] = lobs['bid_vol'] / (lobs['bid_vol'] + lobs['ask_vol']) "
   ]
  },
  {
   "cell_type": "code",
   "execution_count": 52,
   "id": "f998f393",
   "metadata": {},
   "outputs": [],
   "source": [
    "train, test = lobs[:len(lobs) // 2], lobs[len(lobs) // 2:]"
   ]
  },
  {
   "cell_type": "code",
   "execution_count": 53,
   "id": "feb357bc",
   "metadata": {},
   "outputs": [],
   "source": [
    "dm = np.diff(train.mid_price.values)\n",
    "imb = train.imbalance.values\n",
    "spread = train.spread.values"
   ]
  },
  {
   "cell_type": "code",
   "execution_count": 54,
   "id": "fac8b5e3",
   "metadata": {},
   "outputs": [],
   "source": [
    "n = 21\n",
    "m = 20\n",
    "alpha = 0.99"
   ]
  },
  {
   "cell_type": "code",
   "execution_count": 55,
   "id": "cd358dbc",
   "metadata": {},
   "outputs": [],
   "source": [
    "micro_pricer = SimpleMicroPrice(n, m, alpha)"
   ]
  },
  {
   "cell_type": "code",
   "execution_count": 56,
   "id": "6928de30",
   "metadata": {},
   "outputs": [],
   "source": [
    "micro_pricer.fit(imb, spread, dm)"
   ]
  },
  {
   "cell_type": "code",
   "execution_count": 57,
   "id": "8380b2b7",
   "metadata": {},
   "outputs": [
    {
     "data": {
      "image/png": "[encoded data removed]",
      "text/plain": [
       "<Figure size 640x480 with 1 Axes>"
      ]
     },
     "metadata": {},
     "output_type": "display_data"
    }
   ],
   "source": [
    "for s in micro_pricer.spread_set[:5]:\n",
    "    plt.plot(micro_pricer.imb_set, micro_pricer.G[s], '-o', label=f'spread = {s}', linewidth=2)\n",
    "plt.grid()\n",
    "plt.legend()\n",
    "plt.xlabel(\"imbalance\")\n",
    "plt.ylabel('predicted midprice change')\n",
    "plt.show()"
   ]
  },
  {
   "cell_type": "code",
   "execution_count": 58,
   "id": "33d65579",
   "metadata": {},
   "outputs": [],
   "source": [
    "pred = micro_pricer.predict(imb, spread)"
   ]
  },
  {
   "cell_type": "code",
   "execution_count": 59,
   "id": "269f8f6e",
   "metadata": {},
   "outputs": [
    {
     "data": {
      "text/plain": [
       "array([ 1.2363866,  1.2363866,  1.2363866, ..., -1.2363866, -1.2363866,\n",
       "       -1.2363866])"
      ]
     },
     "execution_count": 59,
     "metadata": {},
     "output_type": "execute_result"
    }
   ],
   "source": [
    "pred"
   ]
  },
  {
   "cell_type": "code",
   "execution_count": 60,
   "id": "f356a218",
   "metadata": {},
   "outputs": [
    {
     "data": {
      "text/plain": [
       "array([1.2363866 , 1.2363866 , 1.2363866 , 1.2363866 , 1.2363866 ,\n",
       "       1.2363866 , 1.2363866 , 1.2363866 , 1.2363866 , 0.24148173,\n",
       "       0.24148173, 0.24148173, 0.24148173, 0.24148173, 0.24148173,\n",
       "       0.24148173, 0.24148173, 0.24148173, 0.24148173, 0.35268035])"
      ]
     },
     "execution_count": 60,
     "metadata": {},
     "output_type": "execute_result"
    }
   ],
   "source": [
    "pred[:20]"
   ]
  },
  {
   "cell_type": "code",
   "execution_count": 61,
   "id": "3c77b788",
   "metadata": {},
   "outputs": [
    {
     "data": {
      "text/plain": [
       "0.0044372996581478075"
      ]
     },
     "execution_count": 61,
     "metadata": {},
     "output_type": "execute_result"
    }
   ],
   "source": [
    "np.mean(dm)"
   ]
  },
  {
   "cell_type": "code",
   "execution_count": 62,
   "id": "67f3113c",
   "metadata": {},
   "outputs": [
    {
     "data": {
      "text/plain": [
       "-0.022288698867731944"
      ]
     },
     "execution_count": 62,
     "metadata": {},
     "output_type": "execute_result"
    }
   ],
   "source": [
    "np.mean(pred)"
   ]
  },
  {
   "cell_type": "code",
   "execution_count": 63,
   "id": "a7314820",
   "metadata": {},
   "outputs": [],
   "source": [
    "dm_test = np.diff(test.mid_price.values)\n",
    "imb_test = test.imbalance.values\n",
    "spread_test = test.spread.values"
   ]
  },
  {
   "cell_type": "code",
   "execution_count": 64,
   "id": "c4c727e9",
   "metadata": {},
   "outputs": [],
   "source": [
    "pred = micro_pricer.predict(imb_test, spread_test)"
   ]
  },
  {
   "cell_type": "code",
   "execution_count": 66,
   "id": "32a83ace",
   "metadata": {},
   "outputs": [
    {
     "data": {
      "text/plain": [
       "-7.905959487434042e-05"
      ]
     },
     "execution_count": 66,
     "metadata": {},
     "output_type": "execute_result"
    }
   ],
   "source": [
    "np.mean(pred)"
   ]
  },
  {
   "cell_type": "code",
   "execution_count": 68,
   "id": "7563cd49",
   "metadata": {},
   "outputs": [
    {
     "data": {
      "text/plain": [
       "-0.0006653044227733678"
      ]
     },
     "execution_count": 68,
     "metadata": {},
     "output_type": "execute_result"
    }
   ],
   "source": [
    "np.mean(dm_test)"
   ]
  },
  {
   "cell_type": "code",
   "execution_count": 69,
   "id": "58eb73a1",
   "metadata": {},
   "outputs": [
    {
     "data": {
      "text/plain": [
       "array([-1.2363866 , -1.2363866 , -1.2363866 , -1.2363866 , -1.2363866 ,\n",
       "       -1.2363866 , -1.2363866 , -1.2363866 , -1.2363866 , -1.2363866 ,\n",
       "       -0.99073245, -0.14132713, -0.64915381, -0.94696407, -0.76342897,\n",
       "       -1.2363866 , -0.08485396, -1.0963716 ,  0.35268035, -0.32633088])"
      ]
     },
     "execution_count": 69,
     "metadata": {},
     "output_type": "execute_result"
    }
   ],
   "source": [
    "pred[:20]"
   ]
  },
  {
   "cell_type": "code",
   "execution_count": 70,
   "id": "bb14dbb9",
   "metadata": {},
   "outputs": [
    {
     "data": {
      "text/plain": [
       "array([ 0.  ,  0.  ,  0.  ,  0.  ,  0.  ,  0.  ,  0.  ,  0.  ,  0.  ,\n",
       "       -6.6 , -1.5 , -0.3 ,  0.1 ,  0.  ,  0.  , -0.75, -0.9 , -2.55,\n",
       "       -0.1 ,  0.  ])"
      ]
     },
     "execution_count": 70,
     "metadata": {},
     "output_type": "execute_result"
    }
   ],
   "source": [
    "dm_test[:20]"
   ]
  },
  {
   "cell_type": "code",
   "execution_count": 71,
   "id": "b16c6172",
   "metadata": {},
   "outputs": [
    {
     "name": "stdout",
     "output_type": "stream",
     "text": [
      "(-1.2363865967989507, 0.0)\n",
      "(-1.2363865967989507, 0.0)\n",
      "(-1.2363865967989507, 0.0)\n",
      "(-1.2363865967989507, 0.0)\n",
      "(-1.2363865967989507, 0.0)\n",
      "(-1.2363865967989507, 0.0)\n",
      "(-1.2363865967989507, 0.0)\n",
      "(-1.2363865967989507, 0.0)\n",
      "(-1.2363865967989507, 0.0)\n",
      "(-1.2363865967989507, -6.600000000002183)\n",
      "(-0.9907324502538462, -1.5)\n",
      "(-0.14132713447365325, -0.2999999999992724)\n",
      "(-0.6491538123060377, 0.09999999999854481)\n",
      "(-0.946964074951494, 0.0)\n",
      "(-0.7634289739159006, 0.0)\n",
      "(-1.2363865967989507, -0.75)\n",
      "(-0.08485396162605215, -0.8999999999978172)\n",
      "(-1.0963715994214236, -2.5499999999992724)\n",
      "(0.35268035447931, -0.09999999999854481)\n",
      "(-0.3263308829214121, 0.0)\n"
     ]
    }
   ],
   "source": [
    "print(*zip(pred[:20], dm_test[:20]), sep='\\n')"
   ]
  },
  {
   "cell_type": "code",
   "execution_count": 75,
   "id": "24879cf6",
   "metadata": {},
   "outputs": [
    {
     "data": {
      "image/png": "[encoded data removed]",
      "text/plain": [
       "<Figure size 640x480 with 1 Axes>"
      ]
     },
     "metadata": {},
     "output_type": "display_data"
    }
   ],
   "source": [
    "idx = slice(0, 100, 1)\n",
    "plt.plot(dm_test[idx])\n",
    "plt.plot(pred[idx])\n",
    "plt.grid()\n",
    "plt.show()"
   ]
  },
  {
   "cell_type": "code",
   "execution_count": null,
   "id": "aa2cef67",
   "metadata": {},
   "outputs": [],
   "source": []
  }
 ],
 "metadata": {
  "kernelspec": {
   "display_name": "env",
   "language": "python",
   "name": "env"
  },
  "language_info": {
   "codemirror_mode": {
    "name": "ipython",
    "version": 3
   },
   "file_extension": ".py",
   "mimetype": "text/x-python",
   "name": "python",
   "nbconvert_exporter": "python",
   "pygments_lexer": "ipython3",
   "version": "3.8.12"
  },
  "toc": {
   "base_numbering": 1,
   "nav_menu": {},
   "number_sections": true,
   "sideBar": true,
   "skip_h1_title": false,
   "title_cell": "Table of Contents",
   "title_sidebar": "Contents",
   "toc_cell": false,
   "toc_position": {},
   "toc_section_display": true,
   "toc_window_display": false
  }
 },
 "nbformat": 4,
 "nbformat_minor": 5
}
